{
 "cells": [
  {
   "cell_type": "markdown",
   "source": [
    "### Set Up"
   ],
   "metadata": {
    "collapsed": false
   },
   "id": "b2f9d73beef98dc6"
  },
  {
   "cell_type": "code",
   "execution_count": 269,
   "outputs": [],
   "source": [
    "# Installing the Packages\n",
    "\n",
    "import pandas as pd \n",
    "import numpy as np \n",
    "import matplotlib.pyplot as plt\n",
    "import seaborn as sns\n",
    "from IPython.display import display, HTML\n",
    "\n",
    "# Set the display format for floats"
   ],
   "metadata": {
    "collapsed": false,
    "ExecuteTime": {
     "end_time": "2024-01-24T20:21:37.481816Z",
     "start_time": "2024-01-24T20:21:37.241919Z"
    }
   },
   "id": "639da80fa0489be0"
  },
  {
   "cell_type": "code",
   "execution_count": 270,
   "outputs": [],
   "source": [
    "# Setting the Seed (pandas, statsmodels, matplotlib and y_data_profiling rely on numpy's random generator, and thus, we need to set the seed in numpy)\n",
    "seed = 2024\n",
    "np.random.seed(seed)\n",
    "\n",
    "# Set the display format for floats\n",
    "pd.set_option('display.float_format', lambda x: '{:.2f}'.format(x))"
   ],
   "metadata": {
    "collapsed": false,
    "ExecuteTime": {
     "end_time": "2024-01-24T20:21:37.482061Z",
     "start_time": "2024-01-24T20:21:37.248537Z"
    }
   },
   "id": "e2dfb857d510b775"
  },
  {
   "cell_type": "code",
   "execution_count": 271,
   "outputs": [
    {
     "name": "stderr",
     "output_type": "stream",
     "text": [
      "/var/folders/_4/9t_lhqh15ps7xbdf5qrr2sg40000gn/T/ipykernel_63894/1271822651.py:5: DtypeWarning: Columns (3) have mixed types. Specify dtype option on import or set low_memory=False.\n",
      "  reviews_df = pd.read_csv(\"reviews.csv\")\n"
     ]
    }
   ],
   "source": [
    "# Importing the data \n",
    "diet_df = pd.read_csv(\"diet.csv\")\n",
    "recipes_df = pd.read_csv(\"recipes.csv\")\n",
    "requests_df = pd.read_csv(\"requests.csv\")\n",
    "reviews_df = pd.read_csv(\"reviews.csv\")"
   ],
   "metadata": {
    "collapsed": false,
    "ExecuteTime": {
     "end_time": "2024-01-24T20:21:38.215878Z",
     "start_time": "2024-01-24T20:21:37.254579Z"
    }
   },
   "id": "18ee94309425c650"
  },
  {
   "cell_type": "code",
   "execution_count": 272,
   "outputs": [
    {
     "name": "stdout",
     "output_type": "stream",
     "text": [
      "Diet Shape:  (271907, 3)\n",
      "Recipes Shape:  (75604, 18)\n",
      "Requests Shape:  (140195, 8)\n",
      "Reviews Shape:  (140195, 5)\n"
     ]
    }
   ],
   "source": [
    "print(\"Diet Shape: \", diet_df.shape)\n",
    "print(\"Recipes Shape: \", recipes_df.shape)\n",
    "print(\"Requests Shape: \", requests_df.shape)\n",
    "print(\"Reviews Shape: \", reviews_df.shape)"
   ],
   "metadata": {
    "collapsed": false,
    "ExecuteTime": {
     "end_time": "2024-01-24T20:21:38.216252Z",
     "start_time": "2024-01-24T20:21:38.199850Z"
    }
   },
   "id": "dc3495d9ab9a7de2"
  },
  {
   "cell_type": "markdown",
   "source": [
    "### Cleaning Diet ✅"
   ],
   "metadata": {
    "collapsed": false
   },
   "id": "a7e26a0786e2b430"
  },
  {
   "cell_type": "code",
   "execution_count": 273,
   "outputs": [
    {
     "data": {
      "text/plain": "         AuthorId        Diet  Age\n0       10000120E  Vegetarian   46\n1        1000014D       Vegan   18\n2        1000015A  Vegetarian   58\n3        1000016E  Vegetarian   32\n4        1000027E       Vegan   61\n...           ...         ...  ...\n271902    999917E  Vegetarian   28\n271903    999936C    Omnivore   22\n271904     99993D  Vegetarian   58\n271905     99994A  Vegetarian   18\n271906    999991A  Vegetarian   21\n\n[271907 rows x 3 columns]",
      "text/html": "<div>\n<style scoped>\n    .dataframe tbody tr th:only-of-type {\n        vertical-align: middle;\n    }\n\n    .dataframe tbody tr th {\n        vertical-align: top;\n    }\n\n    .dataframe thead th {\n        text-align: right;\n    }\n</style>\n<table border=\"1\" class=\"dataframe\">\n  <thead>\n    <tr style=\"text-align: right;\">\n      <th></th>\n      <th>AuthorId</th>\n      <th>Diet</th>\n      <th>Age</th>\n    </tr>\n  </thead>\n  <tbody>\n    <tr>\n      <th>0</th>\n      <td>10000120E</td>\n      <td>Vegetarian</td>\n      <td>46</td>\n    </tr>\n    <tr>\n      <th>1</th>\n      <td>1000014D</td>\n      <td>Vegan</td>\n      <td>18</td>\n    </tr>\n    <tr>\n      <th>2</th>\n      <td>1000015A</td>\n      <td>Vegetarian</td>\n      <td>58</td>\n    </tr>\n    <tr>\n      <th>3</th>\n      <td>1000016E</td>\n      <td>Vegetarian</td>\n      <td>32</td>\n    </tr>\n    <tr>\n      <th>4</th>\n      <td>1000027E</td>\n      <td>Vegan</td>\n      <td>61</td>\n    </tr>\n    <tr>\n      <th>...</th>\n      <td>...</td>\n      <td>...</td>\n      <td>...</td>\n    </tr>\n    <tr>\n      <th>271902</th>\n      <td>999917E</td>\n      <td>Vegetarian</td>\n      <td>28</td>\n    </tr>\n    <tr>\n      <th>271903</th>\n      <td>999936C</td>\n      <td>Omnivore</td>\n      <td>22</td>\n    </tr>\n    <tr>\n      <th>271904</th>\n      <td>99993D</td>\n      <td>Vegetarian</td>\n      <td>58</td>\n    </tr>\n    <tr>\n      <th>271905</th>\n      <td>99994A</td>\n      <td>Vegetarian</td>\n      <td>18</td>\n    </tr>\n    <tr>\n      <th>271906</th>\n      <td>999991A</td>\n      <td>Vegetarian</td>\n      <td>21</td>\n    </tr>\n  </tbody>\n</table>\n<p>271907 rows × 3 columns</p>\n</div>"
     },
     "execution_count": 273,
     "metadata": {},
     "output_type": "execute_result"
    }
   ],
   "source": [
    "diet_df"
   ],
   "metadata": {
    "collapsed": false,
    "ExecuteTime": {
     "end_time": "2024-01-24T20:21:38.256437Z",
     "start_time": "2024-01-24T20:21:38.211687Z"
    }
   },
   "id": "78725f8ff94a021d"
  },
  {
   "cell_type": "code",
   "execution_count": 274,
   "outputs": [
    {
     "data": {
      "text/plain": "         AuthorId  Age  Diet_Vegan  Diet_Vegetarian\n0       10000120E   46       False             True\n1        1000014D   18        True            False\n2        1000015A   58       False             True\n3        1000016E   32       False             True\n4        1000027E   61        True            False\n...           ...  ...         ...              ...\n271902    999917E   28       False             True\n271903    999936C   22       False            False\n271904     99993D   58       False             True\n271905     99994A   18       False             True\n271906    999991A   21       False             True\n\n[271907 rows x 4 columns]",
      "text/html": "<div>\n<style scoped>\n    .dataframe tbody tr th:only-of-type {\n        vertical-align: middle;\n    }\n\n    .dataframe tbody tr th {\n        vertical-align: top;\n    }\n\n    .dataframe thead th {\n        text-align: right;\n    }\n</style>\n<table border=\"1\" class=\"dataframe\">\n  <thead>\n    <tr style=\"text-align: right;\">\n      <th></th>\n      <th>AuthorId</th>\n      <th>Age</th>\n      <th>Diet_Vegan</th>\n      <th>Diet_Vegetarian</th>\n    </tr>\n  </thead>\n  <tbody>\n    <tr>\n      <th>0</th>\n      <td>10000120E</td>\n      <td>46</td>\n      <td>False</td>\n      <td>True</td>\n    </tr>\n    <tr>\n      <th>1</th>\n      <td>1000014D</td>\n      <td>18</td>\n      <td>True</td>\n      <td>False</td>\n    </tr>\n    <tr>\n      <th>2</th>\n      <td>1000015A</td>\n      <td>58</td>\n      <td>False</td>\n      <td>True</td>\n    </tr>\n    <tr>\n      <th>3</th>\n      <td>1000016E</td>\n      <td>32</td>\n      <td>False</td>\n      <td>True</td>\n    </tr>\n    <tr>\n      <th>4</th>\n      <td>1000027E</td>\n      <td>61</td>\n      <td>True</td>\n      <td>False</td>\n    </tr>\n    <tr>\n      <th>...</th>\n      <td>...</td>\n      <td>...</td>\n      <td>...</td>\n      <td>...</td>\n    </tr>\n    <tr>\n      <th>271902</th>\n      <td>999917E</td>\n      <td>28</td>\n      <td>False</td>\n      <td>True</td>\n    </tr>\n    <tr>\n      <th>271903</th>\n      <td>999936C</td>\n      <td>22</td>\n      <td>False</td>\n      <td>False</td>\n    </tr>\n    <tr>\n      <th>271904</th>\n      <td>99993D</td>\n      <td>58</td>\n      <td>False</td>\n      <td>True</td>\n    </tr>\n    <tr>\n      <th>271905</th>\n      <td>99994A</td>\n      <td>18</td>\n      <td>False</td>\n      <td>True</td>\n    </tr>\n    <tr>\n      <th>271906</th>\n      <td>999991A</td>\n      <td>21</td>\n      <td>False</td>\n      <td>True</td>\n    </tr>\n  </tbody>\n</table>\n<p>271907 rows × 4 columns</p>\n</div>"
     },
     "execution_count": 274,
     "metadata": {},
     "output_type": "execute_result"
    }
   ],
   "source": [
    "# Clean Diet\n",
    "diet_cleaned = diet_df \n",
    "\n",
    "# Replace the missing values with the most common diet\n",
    "diet_cleaned.loc[diet_df[\"AuthorId\"] == \"646062A\", \"Diet\"] = \"Vegetarian\"\n",
    "\n",
    "# Dummy Encode the diet column\n",
    "diet_cleaned = pd.get_dummies(diet_cleaned, columns=[\"Diet\"], prefix=[\"Diet\"], drop_first=True)\n",
    "\n",
    "diet_cleaned"
   ],
   "metadata": {
    "collapsed": false,
    "ExecuteTime": {
     "end_time": "2024-01-24T20:21:38.321972Z",
     "start_time": "2024-01-24T20:21:38.240887Z"
    }
   },
   "id": "b3cf4f3c1d8ff31c"
  },
  {
   "cell_type": "markdown",
   "source": [
    "### Cleaning Recipes"
   ],
   "metadata": {
    "collapsed": false
   },
   "id": "b9e9b7413be1875c"
  },
  {
   "cell_type": "code",
   "execution_count": 275,
   "outputs": [
    {
     "data": {
      "text/plain": "count    75604.00\nmean       487.58\nstd       1496.38\nmin          0.00\n25%        174.70\n50%        318.10\n75%        530.40\nmax     350473.10\nName: Calories, dtype: float64"
     },
     "execution_count": 275,
     "metadata": {},
     "output_type": "execute_result"
    }
   ],
   "source": [
    "recipes_df.head()\n",
    "recipes_cleaned = recipes_df.copy()\n",
    "\n",
    "recipes_df[\"Calories\"].describe()"
   ],
   "metadata": {
    "collapsed": false,
    "ExecuteTime": {
     "end_time": "2024-01-24T20:21:38.334092Z",
     "start_time": "2024-01-24T20:21:38.287238Z"
    }
   },
   "id": "d8c53468c816ae83"
  },
  {
   "cell_type": "code",
   "execution_count": 276,
   "outputs": [],
   "source": [
    "import re\n",
    "\n",
    "vegetables = 'carrot|potato|tomato|onion|garlic|broccoli|spinach|cucumber|lettuce|celery|cabbage|cauliflower|corn|pepper|peas|beans|asparagus|eggplant|zucchini|squash|pumpkin|radish|beet|turnip|sprouts|vegetable|vegetables|kale|bell pepper|sweet potato|cherry tomato|artichoke|bok choy|brussels sprouts|butternut squash|leek|okra|snow peas|snap peas|green beans|fennel|watercress|arugula|chard|collard greens|endive|escarole|kohlrabi|mustard greens|pattypan squash|romanesco broccoli|rutabaga|sugar snap peas|swiss chard|tatsoi|water chestnut|yam|daikon|lotus root|bamboo shoots|jicama|plantain|radicchio|turnip greens|water spinach|bitter melon|chayote|chicory|dandelion greens|edamame|lotus root|nopales|portobello mushroom|shiitake mushroom|maitake mushroom|enoki mushroom|oyster mushroom|mushroom|zucchini blossom|artichoke|sunchoke|beets|cardoon|salsify|kale|endive|acorn squash|alfalfa sprout|amaranth|anise|arracacha|arrowroot|aubergine|avocado|azuki bean|banana squash|barbarea verna|basil|bean sprout|beet greens|belgian endive|bell pepper|black bean|black-eyed pea|borage|broad bean|broccoflower|broccolini|brussels sprout|butter lettuce|butternut lettuce|cactus|calabash|camas root|canna|cape gooseberry|caper|cardinal bean|cassava|catsear|cauliflower|cayenne pepper|celeriac|celtuce|chayote|cherry pepper|chickpea|chicory|chili pepper|chinese artichoke|chinese broccoli|chinese cabbage|chinese mallow|chive|cilantro|collard|common bean|courgette|courgette flower|cowpea|cress|crookneck squash|cucumber|daikon|delicata squash|dill|drumstick|earthnut pea|elephant garlic|endive|epazote|fava bean|fennel|fenugreek|fluted pumpkin|french bean|frisee|garbanzo|gem squash|ginger|golden samphire|good king henry|grape leaves|green bean|green soybean|guar|habanero|haricot bean|horseradish|hubbard squash|hyacinth bean|iceberg lettuce|jerusalem artichoke|jicama|jute|kai-lan|kidney bean|kohlrabi|komatsuna|kombu|kuka|lacinto|lagos bologi|land cress|laver|leek|lemon grass|lentil|lettuce|lima bean|linguica|lo bok|lotus root|luffa|mache|malabar spinach|mangetout|mizuna greens|molokhia|monstera|morel|morogo|mung bean|mustard|napa cabbage|new zealand spinach|nopale|oceanic whitetip shark|okra|onion|oregano|orache|pak choy|paprika|parsley|parsnip|pea|peanut|pearl onion|pigeon pea|pignut|pimento|pinto bean|pisello|plantain|poblano|pokeweed|potato|prairie turnip|pumpkin|purslane|radicchio|radish|rape|rapini|raspberry|red bean|red cabbage|red pepper|rhubarb|ricebean|rocket|romanescu|romano bean|rosemary|runner bean|rutabaga|rye|saffron|sage|salad savoy|salsify|samphire|scallion|scarlet runner bean|sea kale|seakale beet|sesame|shallot|shiitake|skirret|sloe|snake bean|snow pea|sorrel|sour cherry|southern pea|soybean|spaghetti squash|spinach|spring onion|squash|squash blossom|swede|sweet corn|sweet pepper|sweet potato|swiss chard|taro|tatsoi|thyme|tomatillo|tomato|topinambour|tubers|turmeric|turnip|turnip greens|ugli fruit|ursolic acid|uva-ursi|vates|water chestnut|water spinach|watercress|wax bean|wax gourd|welsh onion|west indian gherkin|white bean|white radish|wild leek|wild rice|winged bean|winter melon|winter squash|yam bean|yardlong bean|yellow squash|yu choy|zucchini'\n",
    "meats = 'chicken|beef|pork|lamb|turkey|duck|goose|fish|seafood|salmon|shrimp|crab|lobster|ham|bacon|sausage|meat|steak|veal|venison|bison|liver|lamb|poultry|meat|tuna|mackerel|trout|haddock|cod|catfish|tilapia|sardine|anchovy|halibut|swordfish|monkfish|eel|octopus|squid|clams|mussels|oysters|snail|game|partridge|pheasant|quail|rabbit|hare|wild boar|elk|moose|reindeer|buffalo|ostrich|emu|kangaroo|alligator|frog legs|snapper|grouper|barracuda|carp|pike|perch|flounder|sole|mahi mahi|red snapper|swordfish|branzino|char|chub|mullet|ray|skate|sturgeon|turbot|whiting|arctic char|caviar|roe|scallop|sea urchin|abalone|crayfish|langoustine|prawn|cuttlefish|jellyfish|stingray|barramundi|black cod|bluefish|bonito|bream|burbot|butterfish|capelin|chimaera|conger|coral trout|dab|dace|dogfish|dorado|dory|drum|escolar|garfish|gilt-head bream|hake|herring|John Dory|kingfish|lamprey|lingcod|lumpsucker|marlin|milkfish|nile perch|northern pike|orange roughy|pacific saury|patagonian toothfish|pollock|pomfret|pompano|rockfish|rudd|sablefish|sanddab|sculpin|sea bass|shark|sheepshead|silver carp|skipjack tuna|smelt|snook|sockeye salmon|sole|sprat|striped bass|sturgeon|surimi|tarpon|tench|wahoo|walleye|warmouth|weakfish|whitebait|whitefish|yellowtail|zebrafish'\n",
    "dairy = 'milk|cheese|yogurt|cream|butter|buttermilk|sour cream|cottage cheese|mascarpone|ricotta|cream cheese|mozzarella|cheddar|brie|feta|parmesan|gouda|havarti|blue cheese|goat cheese|swiss cheese|provolone|muenster cheese|asiago|colby jack|mozzarella sticks|queso fresco|queso blanco|halloumi|neufchâtel|ghee|clotted cream'\n",
    "fruits = 'apple|banana|orange|grape|strawberry|blueberry|raspberry|blackberry|cherry|peach|pear|plum|pineapple|kiwi|lemon|lime|grapefruit|cantaloupe|watermelon|pomegranate|nectarine|apricot|fig|guava|lychee|mango|papaya|persimmon|star fruit|tangerine|dragon fruit|passion fruit|jackfruit|durian|breadfruit|quince|cranberry|currant|elderberry|gooseberry|boysenberry|lingonberry|mulberry|olive|date|prune|raisin|clementine|kumquat|tangelo|blood orange|carambola|loquat|ugli fruit|breadfruit|cherimoya|custard apple|guanabana|guava|horned melon|jujube|kiwano|kumquat|longan|lychee|mangosteen|marionberry|miracle fruit|papaya|persimmon|pomelo|quince|rambutan|sapodilla|tamarillo|tamarind|ugli fruit|yuzu|acai berry|ackee|araza|barbadine|bilberry|black sapote|blackcurrant|blueberry|boysenberry|breadfruit|canistel|cempedak|cherry|cloudberry|coconut|cranberry|cupuacu|currant|damson plum|durian|elderberry|feijoa|fig|goji berry|gooseberry|grape|grapefruit|guava|honeyberry|huckleberry|jabuticaba|jackfruit|jambul|jujube|juniper berry|kiwano|kiwi|kumquat|lemon|lime|lingonberry|loganberry|longan|loquat|lychee|mandarin orange|mango|marionberry|melon|mulberry|nectarine'\n",
    "alcohol = 'beer|wine|vodka|gin|rum|tequila|whiskey|brandy|bourbon|scotch|cognac|liqueur|vermouth|sherry|port|sake|champagne|prosecco|cider|mead|absinthe|amaretto|aperol|aquavit|armagnac|bitters|campari|chartreuse|cointreau|creme de cacao|creme de menthe|curacao|drambuie|frangelico|grand marnier|kahlua|lillet|limoncello|maraschino|midori|pastis|pisco|sambuca|schnapps|sloe gin|st. germain|triple sec|vermouth|absinthe|amaretto|aperol|aquavit|armagnac|bitters|campari|chartreuse|cointreau|creme de cacao|creme de menthe|curacao|drambuie|frangelico|grand marnier|kahlua|lillet|limoncello|maraschino|midori|pastis|pisco|sambuca|schnapps|sloe gin|st. germain|triple sec|vermouth'\n",
    "gluten_containing_grains = 'wheat|barley|rye|spelt|farro|kamut|triticale|bulgur|couscous|seitan|matzo|matzah|matzo meal|cake flour|pastry flour|bread flour|durum|semolina|einkorn|emmer|beer|ale|lager|porter|stout|malt|malt vinegar|soy sauce|teriyaki sauce|hoisin sauce|gravy|breadcrumbs|breaded|crouton|pretzel|pasta|noodle|gnocchi|dumpling|panko|sourdough|bagel|croissant|pita|naan|biscuit|scone|muffin|doughnut|pancake|waffle|pie crust|cake|pastry|cookie|brownie|cereal|granola|oats|oatmeal|oat bran|breakfast bars|communion wafer|play dough'\n",
    "nuts_seeds = 'almond|brazil nut|cashew|chestnut|filbert|hazelnut|macadamia nut|pecan|pine nut|pistachio|walnut|peanut|sunflower seed|pumpkin seed|sesame seed|flaxseed|chia seed|poppy seed|hemp seed|safflower seed|black seed|pomegranate seed|grape seed|apricot kernel|prune kernel|coconut|almond butter|cashew butter|peanut butter|sunflower seed butter|pumpkin seed butter|tahini (sesame seed butter)|nut butter|macadamia butter|pistachio butter|walnut butter|hazelnut butter|chestnut flour|almond flour|coconut flour|sunflower seed flour|flaxseed meal|chia flour|poppy seed oil|hemp seed oil|grape seed oil|walnut oil|almond oil|hazelnut oil|macadamia oil|pecan oil|pine nut oil|pistachio oil|acorn|beechnut|butternut|hickory nut|lychee nut|mongongo nut|pili nut|shea nut|soap nut|tiger nut|colocynth|guarana|jack nut|kola nut|malabar chestnut|ogbono nut|paradise nut|sapucaia nut|souari nut|tonka bean'\n",
    "\n",
    "#print('|'.join([f'{item}s?' for item in gluten_containing_grains.split('|')]))\n",
    "\n",
    "def extract_ingredients(row, string):\n",
    "\n",
    "    ingredients = row.split(',')\n",
    "    cleaned_ingredients = [ingredient.replace('\\\\', '').replace('\"', '').strip() for ingredient in ingredients]\n",
    "    cleaned_ingredients = [ingredient.replace('c(', '') for ingredient in cleaned_ingredients]\n",
    "    \n",
    "    plural_string = '|'.join([f'{item}s?' for item in string.split('|')])\n",
    "\n",
    "    count = 0\n",
    "    for ingredient in cleaned_ingredients: \n",
    "        if bool(re.search(plural_string, ingredient, re.IGNORECASE)):\n",
    "            #print(ingredient)\n",
    "            #print(plural_string[0])\n",
    "            #print(ingredient)\n",
    "            count += 1\n",
    "\n",
    "    #print(cleaned_ingredients)\n",
    "    #print(vegetables_count)\n",
    "    \n",
    "    return count\n",
    "\n",
    "recipes_cleaned['VegetableCount'] = recipes_cleaned['RecipeIngredientParts'].apply(lambda row: extract_ingredients(row, vegetables))\n",
    "recipes_cleaned['MeatCount'] = recipes_cleaned['RecipeIngredientParts'].apply(lambda row: extract_ingredients(row, meats))\n",
    "recipes_cleaned['DairyCount'] = recipes_cleaned['RecipeIngredientParts'].apply(lambda row: extract_ingredients(row, dairy))\n",
    "recipes_cleaned['FruitsCount'] = recipes_cleaned['RecipeIngredientParts'].apply(lambda row: extract_ingredients(row, fruits))\n",
    "recipes_cleaned['AlcoholCount'] = recipes_cleaned['RecipeIngredientParts'].apply(lambda row: extract_ingredients(row, alcohol))\n",
    "recipes_cleaned['GlutenContainingGrainsCount'] = recipes_cleaned['RecipeIngredientParts'].apply(lambda row: extract_ingredients(row, gluten_containing_grains))\n",
    "recipes_cleaned['NutsAndSeedsCount'] = recipes_cleaned['RecipeIngredientParts'].apply(lambda row: extract_ingredients(row, nuts_seeds))"
   ],
   "metadata": {
    "collapsed": false,
    "ExecuteTime": {
     "end_time": "2024-01-24T20:22:45.703756Z",
     "start_time": "2024-01-24T20:21:38.355759Z"
    }
   },
   "id": "7b8a833b2fef1e3e"
  },
  {
   "cell_type": "code",
   "execution_count": 277,
   "outputs": [],
   "source": [
    "# Drop the 'Name' column\n",
    "recipes_cleaned.drop(columns=['Name'], inplace=True)\n",
    "\n",
    "# Handling the Time columns \n",
    "recipes_cleaned[\"TotalTimeRequired\"] = recipes_cleaned[\"CookTime\"] + recipes_cleaned[\"PrepTime\"]\n",
    "recipes_cleaned.drop([\"CookTime\", \"PrepTime\"], axis=1, inplace=True)\n",
    "\n",
    "# Handling the RecipeCategory column\n",
    "recipes_cleaned = pd.get_dummies(recipes_cleaned, columns=['RecipeCategory'], drop_first=True)\n",
    "\n",
    "# Handling the RecipeIngredientQuantities column\n",
    "recipes_cleaned.drop(columns=['RecipeIngredientQuantities'], inplace=True)\n",
    "\n",
    "# Handling the RecipeIngredientParts column\n",
    "recipes_cleaned.drop(columns=['RecipeIngredientParts'], inplace=True)\n",
    "\n",
    "# Handling the Calories column\n",
    "#recipes_cleaned.loc[recipes_cleaned[\"Calories\"] > 30000, \"Calories\"] = recipes_cleaned[\"Calories\"].median()\n",
    "\n",
    "# Handling the CholesterolContent column\n",
    "#recipes_cleaned.drop(columns=['CholesterolContent'], inplace=True)\n",
    "\n",
    "# Handling the SodiumContent column\n",
    "#recipes_cleaned.drop(columns=['SodiumContent'], inplace=True)\n",
    "\n",
    "# Handling the RecipeServings column\n",
    "recipes_cleaned.drop(columns=['RecipeServings'], inplace=True)\n",
    "\n",
    "# Handling the RecipeYield column\n",
    "recipes_cleaned.drop(columns=['RecipeYield'], inplace=True)"
   ],
   "metadata": {
    "collapsed": false,
    "ExecuteTime": {
     "end_time": "2024-01-24T20:22:45.789766Z",
     "start_time": "2024-01-24T20:22:45.706562Z"
    }
   },
   "id": "e52e66eab3f0016f"
  },
  {
   "cell_type": "markdown",
   "source": [
    "\n",
    "# FatContent, SaturatedFatContent, CarbohydrateContent, FiberContent, SugarContent, ProteinContent\n",
    "\n",
    "# FatContent\n",
    "recipes_cleaned.loc[recipes_cleaned[\"FatContent\"] > 100, \"FatContent\"] = recipes_cleaned[\"FatContent\"].median()\n",
    "\n",
    "# SaturatedFatContent\n",
    "recipes_cleaned.loc[recipes_cleaned[\"SaturatedFatContent\"] > 100, \"SaturatedFatContent\"] = recipes_cleaned[\"SaturatedFatContent\"].median()\n",
    "\n",
    "# CarbohydrateContent\n",
    "recipes_cleaned.loc[recipes_cleaned[\"CarbohydrateContent\"] > 100, \"CarbohydrateContent\"] = recipes_cleaned[\"CarbohydrateContent\"].median()\n",
    "\n",
    "# FiberContent\n",
    "recipes_cleaned.loc[recipes_cleaned[\"FiberContent\"] > 100, \"FiberContent\"] = recipes_cleaned[\"FiberContent\"].median()\n",
    "\n",
    "# SugarContent\n",
    "recipes_cleaned.loc[recipes_cleaned[\"SugarContent\"] > 100, \"SugarContent\"] = recipes_cleaned[\"SugarContent\"].median()\n",
    "\n",
    "# ProteinContent\n",
    "recipes_cleaned.loc[recipes_cleaned[\"ProteinContent\"] > 100, \"ProteinContent\"] = recipes_cleaned[\"ProteinContent\"].median()\n"
   ],
   "metadata": {
    "collapsed": false
   },
   "id": "f790526afbcaa0ed"
  },
  {
   "cell_type": "code",
   "execution_count": 278,
   "outputs": [
    {
     "data": {
      "text/plain": "count   75604.00\nmean        0.04\nstd         0.04\nmin         0.00\n25%         0.01\n50%         0.03\n75%         0.06\nmax         0.50\nName: FiberPercentage, dtype: float64"
     },
     "execution_count": 278,
     "metadata": {},
     "output_type": "execute_result"
    }
   ],
   "source": [
    "\n",
    "# Berechne die Summe der Nährwerte und ersetze 0 durch 1\n",
    "recipes_cleaned['WeightFromNutrition'] = recipes_cleaned['FatContent'] + recipes_cleaned['CarbohydrateContent'] + recipes_cleaned['FiberContent'] + recipes_cleaned['SugarContent'] + recipes_cleaned['ProteinContent']\n",
    "recipes_cleaned['WeightFromNutrition'] = recipes_cleaned['WeightFromNutrition'].replace(0, 1)\n",
    "\n",
    "# Berechne die Prozentanteile\n",
    "recipes_cleaned['FatPercentage'] = recipes_cleaned['FatContent'] / recipes_cleaned['WeightFromNutrition']\n",
    "recipes_cleaned['CarbohydratePercentage'] = recipes_cleaned['CarbohydrateContent'] / recipes_cleaned['WeightFromNutrition']\n",
    "recipes_cleaned['FiberPercentage'] = recipes_cleaned['FiberContent'] / recipes_cleaned['WeightFromNutrition']\n",
    "recipes_cleaned['SugarPercentage'] = recipes_cleaned['SugarContent'] / recipes_cleaned['WeightFromNutrition']\n",
    "recipes_cleaned['ProteinPercentage'] = recipes_cleaned['ProteinContent'] / recipes_cleaned['WeightFromNutrition']\n",
    "\n",
    "recipes_cleaned['CaloriesPerWeight'] = recipes_cleaned['Calories'] / recipes_cleaned['WeightFromNutrition']\n",
    "recipes_cleaned.loc[recipes_cleaned['CaloriesPerWeight'] > 400, 'CaloriesPerWeight'] = 400\n",
    "\n",
    "\n",
    "recipes_cleaned\n",
    "recipes_cleaned['FiberPercentage'].describe()\n",
    "#sns.scatterplot(recipes_cleaned['FiberPercentage'])\n"
   ],
   "metadata": {
    "collapsed": false,
    "ExecuteTime": {
     "end_time": "2024-01-24T20:22:45.811718Z",
     "start_time": "2024-01-24T20:22:45.790648Z"
    }
   },
   "id": "f259e9fec6691574"
  },
  {
   "cell_type": "code",
   "execution_count": 279,
   "outputs": [],
   "source": [
    "# Entferne die angegebenen Spalten in-place\n",
    "recipes_cleaned.drop(columns=['SaturatedFatContent', 'CholesterolContent', 'SodiumContent'], inplace=True)\n",
    "#recipes_cleaned.drop(columns=['FatContent', 'CarbohydrateContent', 'FiberContent', 'SugarContent', 'ProteinContent'], inplace=True)\n",
    "#recipes_cleaned.drop(columns=['Calories'], inplace=True)"
   ],
   "metadata": {
    "collapsed": false,
    "ExecuteTime": {
     "end_time": "2024-01-24T20:22:45.841391Z",
     "start_time": "2024-01-24T20:22:45.813808Z"
    }
   },
   "id": "3b616970fcab951b"
  },
  {
   "cell_type": "markdown",
   "source": [
    "#### Cleaning Requests ✅"
   ],
   "metadata": {
    "collapsed": false
   },
   "id": "d451837d07e342c6"
  },
  {
   "cell_type": "code",
   "execution_count": 280,
   "outputs": [],
   "source": [
    "requests_df.head()\n",
    "requests_cleaned = requests_df.copy()"
   ],
   "metadata": {
    "collapsed": false,
    "ExecuteTime": {
     "end_time": "2024-01-24T20:22:45.841976Z",
     "start_time": "2024-01-24T20:22:45.824930Z"
    }
   },
   "id": "441f812ad9632049"
  },
  {
   "cell_type": "code",
   "execution_count": 281,
   "outputs": [
    {
     "data": {
      "text/plain": "           AuthorId  RecipeId     Time  HighCalories  HighProtein  LowFat  \\\n0       2001012259B     73440  1799.95             0            0       0   \n1           437641B    365718  4201.82             0            1       0   \n2       1803340263D    141757  6299.86             0            0       1   \n3           854048B    280351 19801.37             0            1       1   \n4          2277685E    180505  5400.09             0            0       0   \n...             ...       ...      ...           ...          ...     ...   \n140190      163793B     78171  1560.65             0            0       0   \n140191       33888B    333262  1502.01             1            0       1   \n140192      401942C     49200  5999.27             0            0       0   \n140193      346866B    214815   899.52             0            1       1   \n140194     1786859E    117923  7199.64             1            0       0   \n\n        LowSugar  HighFiber  \n0              1          0  \n1              0          1  \n2              0          0  \n3              1          1  \n4              1          0  \n...          ...        ...  \n140190         1          1  \n140191         1          0  \n140192         1          1  \n140193         0          1  \n140194         1          1  \n\n[140195 rows x 8 columns]",
      "text/html": "<div>\n<style scoped>\n    .dataframe tbody tr th:only-of-type {\n        vertical-align: middle;\n    }\n\n    .dataframe tbody tr th {\n        vertical-align: top;\n    }\n\n    .dataframe thead th {\n        text-align: right;\n    }\n</style>\n<table border=\"1\" class=\"dataframe\">\n  <thead>\n    <tr style=\"text-align: right;\">\n      <th></th>\n      <th>AuthorId</th>\n      <th>RecipeId</th>\n      <th>Time</th>\n      <th>HighCalories</th>\n      <th>HighProtein</th>\n      <th>LowFat</th>\n      <th>LowSugar</th>\n      <th>HighFiber</th>\n    </tr>\n  </thead>\n  <tbody>\n    <tr>\n      <th>0</th>\n      <td>2001012259B</td>\n      <td>73440</td>\n      <td>1799.95</td>\n      <td>0</td>\n      <td>0</td>\n      <td>0</td>\n      <td>1</td>\n      <td>0</td>\n    </tr>\n    <tr>\n      <th>1</th>\n      <td>437641B</td>\n      <td>365718</td>\n      <td>4201.82</td>\n      <td>0</td>\n      <td>1</td>\n      <td>0</td>\n      <td>0</td>\n      <td>1</td>\n    </tr>\n    <tr>\n      <th>2</th>\n      <td>1803340263D</td>\n      <td>141757</td>\n      <td>6299.86</td>\n      <td>0</td>\n      <td>0</td>\n      <td>1</td>\n      <td>0</td>\n      <td>0</td>\n    </tr>\n    <tr>\n      <th>3</th>\n      <td>854048B</td>\n      <td>280351</td>\n      <td>19801.37</td>\n      <td>0</td>\n      <td>1</td>\n      <td>1</td>\n      <td>1</td>\n      <td>1</td>\n    </tr>\n    <tr>\n      <th>4</th>\n      <td>2277685E</td>\n      <td>180505</td>\n      <td>5400.09</td>\n      <td>0</td>\n      <td>0</td>\n      <td>0</td>\n      <td>1</td>\n      <td>0</td>\n    </tr>\n    <tr>\n      <th>...</th>\n      <td>...</td>\n      <td>...</td>\n      <td>...</td>\n      <td>...</td>\n      <td>...</td>\n      <td>...</td>\n      <td>...</td>\n      <td>...</td>\n    </tr>\n    <tr>\n      <th>140190</th>\n      <td>163793B</td>\n      <td>78171</td>\n      <td>1560.65</td>\n      <td>0</td>\n      <td>0</td>\n      <td>0</td>\n      <td>1</td>\n      <td>1</td>\n    </tr>\n    <tr>\n      <th>140191</th>\n      <td>33888B</td>\n      <td>333262</td>\n      <td>1502.01</td>\n      <td>1</td>\n      <td>0</td>\n      <td>1</td>\n      <td>1</td>\n      <td>0</td>\n    </tr>\n    <tr>\n      <th>140192</th>\n      <td>401942C</td>\n      <td>49200</td>\n      <td>5999.27</td>\n      <td>0</td>\n      <td>0</td>\n      <td>0</td>\n      <td>1</td>\n      <td>1</td>\n    </tr>\n    <tr>\n      <th>140193</th>\n      <td>346866B</td>\n      <td>214815</td>\n      <td>899.52</td>\n      <td>0</td>\n      <td>1</td>\n      <td>1</td>\n      <td>0</td>\n      <td>1</td>\n    </tr>\n    <tr>\n      <th>140194</th>\n      <td>1786859E</td>\n      <td>117923</td>\n      <td>7199.64</td>\n      <td>1</td>\n      <td>0</td>\n      <td>0</td>\n      <td>1</td>\n      <td>1</td>\n    </tr>\n  </tbody>\n</table>\n<p>140195 rows × 8 columns</p>\n</div>"
     },
     "execution_count": 281,
     "metadata": {},
     "output_type": "execute_result"
    }
   ],
   "source": [
    "# Handling the Time Column \n",
    "# Replace negative values in the Time Column with a very high number\n",
    "requests_cleaned.loc[requests_cleaned[\"Time\"] < 0, \"Time\"] = 1000000000000000000\n",
    "\n",
    "# Handling the HighCalories column \n",
    "requests_cleaned['HighCalories'] = requests_df['HighCalories'].astype('int')\n",
    "\n",
    "# Handling the HighProtein column\n",
    "requests_cleaned['HighProtein'] = requests_df['HighProtein'].map({'Yes': 1, 'Indifferent': 0})\n",
    "\n",
    "# Handling the LowFat column\n",
    "\n",
    "# Handling the LowSugar column\n",
    "requests_cleaned['LowSugar'] = requests_df['LowSugar'].map({'0': 1, 'Indifferent': 0})\n",
    "\n",
    "requests_cleaned\n"
   ],
   "metadata": {
    "collapsed": false,
    "ExecuteTime": {
     "end_time": "2024-01-24T20:22:45.880006Z",
     "start_time": "2024-01-24T20:22:45.839066Z"
    }
   },
   "id": "e5660574a3c1598e"
  },
  {
   "cell_type": "markdown",
   "source": [
    "#### Cleaning Reviews ✅"
   ],
   "metadata": {
    "collapsed": false
   },
   "id": "fb505f201f5bc30f"
  },
  {
   "cell_type": "code",
   "execution_count": 282,
   "outputs": [],
   "source": [
    "reviews_df.head()\n",
    "reviews_cleaned = reviews_df.copy()"
   ],
   "metadata": {
    "collapsed": false,
    "ExecuteTime": {
     "end_time": "2024-01-24T20:22:45.880740Z",
     "start_time": "2024-01-24T20:22:45.866763Z"
    }
   },
   "id": "58c81078f2265c7f"
  },
  {
   "cell_type": "code",
   "execution_count": 283,
   "outputs": [
    {
     "data": {
      "text/plain": "           AuthorId  RecipeId  Rating  Like  TestSetId\n0          2492191A     33671    2.00   NaN       1.00\n1       2002019979A     92647    2.00   NaN       2.00\n2           408594E    161770    0.00   NaN       3.00\n3       2001625557E    108231    2.00   NaN       4.00\n4       2001427116E     71109    0.00   NaN       5.00\n...             ...       ...     ...   ...        ...\n140190      999595E    338070    2.00  0.00        NaN\n140191      999774A     29002    2.00  0.00        NaN\n140192      999774A    159252    0.00  0.00        NaN\n140193      999774A      1171    2.00  1.00        NaN\n140194      999917E    169413    2.00  0.00        NaN\n\n[140195 rows x 5 columns]",
      "text/html": "<div>\n<style scoped>\n    .dataframe tbody tr th:only-of-type {\n        vertical-align: middle;\n    }\n\n    .dataframe tbody tr th {\n        vertical-align: top;\n    }\n\n    .dataframe thead th {\n        text-align: right;\n    }\n</style>\n<table border=\"1\" class=\"dataframe\">\n  <thead>\n    <tr style=\"text-align: right;\">\n      <th></th>\n      <th>AuthorId</th>\n      <th>RecipeId</th>\n      <th>Rating</th>\n      <th>Like</th>\n      <th>TestSetId</th>\n    </tr>\n  </thead>\n  <tbody>\n    <tr>\n      <th>0</th>\n      <td>2492191A</td>\n      <td>33671</td>\n      <td>2.00</td>\n      <td>NaN</td>\n      <td>1.00</td>\n    </tr>\n    <tr>\n      <th>1</th>\n      <td>2002019979A</td>\n      <td>92647</td>\n      <td>2.00</td>\n      <td>NaN</td>\n      <td>2.00</td>\n    </tr>\n    <tr>\n      <th>2</th>\n      <td>408594E</td>\n      <td>161770</td>\n      <td>0.00</td>\n      <td>NaN</td>\n      <td>3.00</td>\n    </tr>\n    <tr>\n      <th>3</th>\n      <td>2001625557E</td>\n      <td>108231</td>\n      <td>2.00</td>\n      <td>NaN</td>\n      <td>4.00</td>\n    </tr>\n    <tr>\n      <th>4</th>\n      <td>2001427116E</td>\n      <td>71109</td>\n      <td>0.00</td>\n      <td>NaN</td>\n      <td>5.00</td>\n    </tr>\n    <tr>\n      <th>...</th>\n      <td>...</td>\n      <td>...</td>\n      <td>...</td>\n      <td>...</td>\n      <td>...</td>\n    </tr>\n    <tr>\n      <th>140190</th>\n      <td>999595E</td>\n      <td>338070</td>\n      <td>2.00</td>\n      <td>0.00</td>\n      <td>NaN</td>\n    </tr>\n    <tr>\n      <th>140191</th>\n      <td>999774A</td>\n      <td>29002</td>\n      <td>2.00</td>\n      <td>0.00</td>\n      <td>NaN</td>\n    </tr>\n    <tr>\n      <th>140192</th>\n      <td>999774A</td>\n      <td>159252</td>\n      <td>0.00</td>\n      <td>0.00</td>\n      <td>NaN</td>\n    </tr>\n    <tr>\n      <th>140193</th>\n      <td>999774A</td>\n      <td>1171</td>\n      <td>2.00</td>\n      <td>1.00</td>\n      <td>NaN</td>\n    </tr>\n    <tr>\n      <th>140194</th>\n      <td>999917E</td>\n      <td>169413</td>\n      <td>2.00</td>\n      <td>0.00</td>\n      <td>NaN</td>\n    </tr>\n  </tbody>\n</table>\n<p>140195 rows × 5 columns</p>\n</div>"
     },
     "execution_count": 283,
     "metadata": {},
     "output_type": "execute_result"
    }
   ],
   "source": [
    "# Handling the Rating Column \n",
    "# Replace the missing values with 0\n",
    "reviews_cleaned['Rating'].fillna(0, inplace=True)\n",
    "\n",
    "#reviews_cleaned.drop(columns=['Rating'], inplace=True)\n",
    "\n",
    "# Handling the Like Column \n",
    "reviews_cleaned['Like'] = reviews_cleaned['Like'].map({True: 1, False: 0})\n",
    "\n",
    "\n",
    "# Handling the TestSetId Column\n",
    "\n",
    "reviews_cleaned\n",
    "\n"
   ],
   "metadata": {
    "collapsed": false,
    "ExecuteTime": {
     "end_time": "2024-01-24T20:22:45.959959Z",
     "start_time": "2024-01-24T20:22:45.874353Z"
    }
   },
   "id": "26566a9a07daff14"
  },
  {
   "cell_type": "markdown",
   "source": [
    "#### Data Merging"
   ],
   "metadata": {
    "collapsed": false
   },
   "id": "8f091fd8a70b8795"
  },
  {
   "cell_type": "code",
   "execution_count": 284,
   "outputs": [
    {
     "data": {
      "text/plain": "      AuthorId  RecipeId     Time  HighCalories  HighProtein  LowFat  \\\n0  2001012259B     73440  1799.95          0.00  Indifferent       0   \n1      437641B    365718  4201.82          0.00          Yes       0   \n2  1803340263D    141757  6299.86          0.00  Indifferent       1   \n3      854048B    280351 19801.37          0.00          Yes       1   \n4     2277685E    180505  5400.09          0.00  Indifferent       0   \n\n      LowSugar  HighFiber  \n0            0          0  \n1  Indifferent          1  \n2  Indifferent          0  \n3            0          1  \n4            0          0  ",
      "text/html": "<div>\n<style scoped>\n    .dataframe tbody tr th:only-of-type {\n        vertical-align: middle;\n    }\n\n    .dataframe tbody tr th {\n        vertical-align: top;\n    }\n\n    .dataframe thead th {\n        text-align: right;\n    }\n</style>\n<table border=\"1\" class=\"dataframe\">\n  <thead>\n    <tr style=\"text-align: right;\">\n      <th></th>\n      <th>AuthorId</th>\n      <th>RecipeId</th>\n      <th>Time</th>\n      <th>HighCalories</th>\n      <th>HighProtein</th>\n      <th>LowFat</th>\n      <th>LowSugar</th>\n      <th>HighFiber</th>\n    </tr>\n  </thead>\n  <tbody>\n    <tr>\n      <th>0</th>\n      <td>2001012259B</td>\n      <td>73440</td>\n      <td>1799.95</td>\n      <td>0.00</td>\n      <td>Indifferent</td>\n      <td>0</td>\n      <td>0</td>\n      <td>0</td>\n    </tr>\n    <tr>\n      <th>1</th>\n      <td>437641B</td>\n      <td>365718</td>\n      <td>4201.82</td>\n      <td>0.00</td>\n      <td>Yes</td>\n      <td>0</td>\n      <td>Indifferent</td>\n      <td>1</td>\n    </tr>\n    <tr>\n      <th>2</th>\n      <td>1803340263D</td>\n      <td>141757</td>\n      <td>6299.86</td>\n      <td>0.00</td>\n      <td>Indifferent</td>\n      <td>1</td>\n      <td>Indifferent</td>\n      <td>0</td>\n    </tr>\n    <tr>\n      <th>3</th>\n      <td>854048B</td>\n      <td>280351</td>\n      <td>19801.37</td>\n      <td>0.00</td>\n      <td>Yes</td>\n      <td>1</td>\n      <td>0</td>\n      <td>1</td>\n    </tr>\n    <tr>\n      <th>4</th>\n      <td>2277685E</td>\n      <td>180505</td>\n      <td>5400.09</td>\n      <td>0.00</td>\n      <td>Indifferent</td>\n      <td>0</td>\n      <td>0</td>\n      <td>0</td>\n    </tr>\n  </tbody>\n</table>\n</div>"
     },
     "execution_count": 284,
     "metadata": {},
     "output_type": "execute_result"
    }
   ],
   "source": [
    "requests_df.head()"
   ],
   "metadata": {
    "collapsed": false,
    "ExecuteTime": {
     "end_time": "2024-01-24T20:22:46.024273Z",
     "start_time": "2024-01-24T20:22:45.896462Z"
    }
   },
   "id": "cb65c767612ba5af"
  },
  {
   "cell_type": "code",
   "execution_count": 285,
   "outputs": [
    {
     "name": "stdout",
     "output_type": "stream",
     "text": [
      "Diet Shape:  (271907, 4)\n",
      "Recipes Shape:  (75604, 28)\n",
      "Requests Shape:  (140195, 8)\n",
      "Reviews Shape:  (140195, 5)\n"
     ]
    }
   ],
   "source": [
    "print(\"Diet Shape: \", diet_cleaned.shape)\n",
    "print(\"Recipes Shape: \", recipes_cleaned.shape)\n",
    "print(\"Requests Shape: \", requests_cleaned.shape)\n",
    "print(\"Reviews Shape: \", reviews_cleaned.shape)"
   ],
   "metadata": {
    "collapsed": false,
    "ExecuteTime": {
     "end_time": "2024-01-24T20:22:46.024518Z",
     "start_time": "2024-01-24T20:22:45.905941Z"
    }
   },
   "id": "bab812b732700a84"
  },
  {
   "cell_type": "code",
   "execution_count": 286,
   "outputs": [
    {
     "name": "stdout",
     "output_type": "stream",
     "text": [
      "(140195, 41)\n"
     ]
    },
    {
     "data": {
      "text/plain": "AuthorId                         object\nRecipeId                          int64\nTime                            float64\nHighCalories                      int64\nHighProtein                       int64\nLowFat                            int64\nLowSugar                          int64\nHighFiber                         int64\nRating                          float64\nLike                            float64\nTestSetId                       float64\nCalories                        float64\nFatContent                      float64\nCarbohydrateContent             float64\nFiberContent                    float64\nSugarContent                    float64\nProteinContent                  float64\nVegetableCount                    int64\nMeatCount                         int64\nDairyCount                        int64\nFruitsCount                       int64\nAlcoholCount                      int64\nGlutenContainingGrainsCount       int64\nNutsAndSeedsCount                 int64\nTotalTimeRequired                 int64\nRecipeCategory_Bread               bool\nRecipeCategory_Breakfast           bool\nRecipeCategory_Lunch               bool\nRecipeCategory_One dish meal       bool\nRecipeCategory_Other               bool\nRecipeCategory_Soup                bool\nWeightFromNutrition             float64\nFatPercentage                   float64\nCarbohydratePercentage          float64\nFiberPercentage                 float64\nSugarPercentage                 float64\nProteinPercentage               float64\nCaloriesPerWeight               float64\nAge                               int64\nDiet_Vegan                         bool\nDiet_Vegetarian                    bool\ndtype: object"
     },
     "execution_count": 286,
     "metadata": {},
     "output_type": "execute_result"
    }
   ],
   "source": [
    "full_df = pd.merge(requests_cleaned, reviews_cleaned, on=['RecipeId', 'AuthorId'])\n",
    "full_df = pd.merge(full_df, recipes_cleaned, on=['RecipeId'])\n",
    "full_df = pd.merge(full_df, diet_cleaned, on=['AuthorId'])\n",
    "\n",
    "print(full_df.shape)\n",
    "\n",
    "full_df.loc[full_df[\"RecipeId\"] == 133043]\n",
    "\n",
    "full_df.dtypes\n"
   ],
   "metadata": {
    "collapsed": false,
    "ExecuteTime": {
     "end_time": "2024-01-24T20:22:46.384640Z",
     "start_time": "2024-01-24T20:22:45.911811Z"
    }
   },
   "id": "b346bac54472d834"
  },
  {
   "cell_type": "markdown",
   "source": [
    "### Full DF Data Engineering"
   ],
   "metadata": {
    "collapsed": false
   },
   "id": "4cdb18827a3aa4b7"
  },
  {
   "cell_type": "code",
   "execution_count": 287,
   "outputs": [
    {
     "data": {
      "text/plain": "HighFiberRequestFulfilled\n0    104675\n1     35520\nName: count, dtype: int64"
     },
     "execution_count": 287,
     "metadata": {},
     "output_type": "execute_result"
    }
   ],
   "source": [
    "# Cross Data Engineernig \n",
    "\n",
    "# TimeRequestFulfilled -> 1, if TotalTime is less Time\n",
    "full_df = full_df.assign(TimeRequestFulfilled = np.where(full_df['TotalTimeRequired'] <= full_df['Time'], 1, 0))\n",
    "\n",
    "# VegetarianRequestFulfilled -> 1, if Diet_Vegetarian is 1 and ProteinContent is in the 0.5 quantile\n",
    "#full_df = full_df.assign(VegetarianRequestFulfilled = np.where((full_df['Diet_Vegetarian'] == 1) & (full_df['MeatCount'] == 0), 1, 0))\n",
    "\n",
    "# VeganRequestFulfilled -> 1, if Diet_Vegan is 1 and ProteinContent is in the 0.5 quantile\n",
    "#full_df = full_df.assign(VeganRequestFulfilled = np.where((full_df['Diet_Vegan'] == 1) & (full_df['MeatCount'] == 0) & (full_df['DairyCount'] == 0), 1, 0))\n",
    "\n",
    "\n",
    "\n",
    "# High Calories -> 1, if HighCalories is 1 and if CaloriesContent is more than 500 \n",
    "full_df = full_df.assign(HighCaloriesRequestFulfilled = np.where((full_df[\"HighCalories\"] == 1) & (full_df['Calories'] >= 300), 1, 0))\n",
    "#full_df = full_df.assign(HighCaloriesRequestFulfilled = np.where((full_df[\"HighCalories\"] == 1) & (full_df['CaloriesPerWeight'] >= 5.1), 1, 0))\n",
    "\n",
    "# LowFatRequestFulfilled -> 1, if LowFat is 1, and FatContent is less than 3\n",
    "full_df = full_df.assign(LowFatRequestFulfilled = np.where((full_df['LowFat'] == 1) & (full_df['FatContent'] < 13), 1, 0))\n",
    "#full_df = full_df.assign(LowFatRequestFulfilled = np.where((full_df['LowFat'] == 1) & (full_df['FatPercentage'] < 0.05), 1, 0))\n",
    "\n",
    "# HighProteinRequestFulfilled -> 1, if ProteinContent is more than 25 \n",
    "full_df = full_df.assign(HighProteinRequestFulfilled = np.where((full_df[\"HighProtein\"] == 1) & (full_df['ProteinContent'] >= 25), 1, 0))\n",
    "#full_df = full_df.assign(HighProteinRequestFulfilled = np.where((full_df[\"HighProtein\"] == 1) & (full_df['ProteinPercentage'] >= 0.06), 1, 0))\n",
    "\n",
    "# LowSugarRequestFulfilled -> 1, if LowSugar is 1, and SugarContent is less than 5\n",
    "full_df = full_df.assign(LowSugarRequestFulfilled = np.where((full_df['LowSugar'] == 1) & (full_df['SugarContent'] < 6), 1, 0))\n",
    "#full_df = full_df.assign(LowSugarRequestFulfilled = np.where((full_df['LowSugar'] == 1) & (full_df['SugarPercentage'] < 0.05), 1, 0))\n",
    "\n",
    "# HighFiberRequestFulfilled -> 1, if FiberContent is more than 10\n",
    "full_df = full_df.assign(HighFiberRequestFulfilled = np.where((full_df['FiberContent'] >= 4.5), 1, 0))\n",
    "#full_df = full_df.assign(HighFiberRequestFulfilled = np.where((full_df['FiberPercentage'] >= 0.06), 1, 0))\n",
    "\n",
    "\n",
    "\n",
    "# VegeterianRequestFulfilled -> 1, if Diet_Vegetarian is 1 and MeatCount is 0\n",
    "full_df = full_df.assign(VegeterianRequestNotFulfilled = np.where((full_df['Diet_Vegetarian'] == 1) & (full_df['MeatCount'] != 0), 1, 0))\n",
    "\n",
    "# VeganRequestFulfilled -> 1, if Diet_Vegan is 1 and MeatCount is 0 and DairyCount is 0\n",
    "full_df = full_df.assign(VeganRequestNotFulfilled = np.where((full_df['Diet_Vegan'] == 1) & ((full_df['MeatCount'] != 0) | (full_df['DairyCount'] != 0)), 1, 0))\n",
    "\n",
    "# OmnivoreRequestFulfilled -> 1, if Diet_Vegan is 0 and Diet_Vegetarian is 0 and MeatCount is not 0\n",
    "full_df = full_df.assign(OmnivoreRequestFulfilled = np.where((full_df['Diet_Vegan'] == 0) & (full_df['Diet_Vegetarian'] == 0) & (full_df['MeatCount'] != 0), 1, 0))\n",
    "\n",
    "full_df[\"HighFiberRequestFulfilled\"].value_counts() \n",
    "\n"
   ],
   "metadata": {
    "collapsed": false,
    "ExecuteTime": {
     "end_time": "2024-01-24T20:22:47.308893Z",
     "start_time": "2024-01-24T20:22:46.383595Z"
    }
   },
   "id": "efc650cd57e535a6"
  },
  {
   "cell_type": "code",
   "execution_count": 288,
   "outputs": [
    {
     "data": {
      "text/plain": "AuthorId                          object\nRecipeId                           int64\nTime                             float64\nHighCalories                       int64\nHighProtein                        int64\nLowFat                             int64\nLowSugar                           int64\nHighFiber                          int64\nRating                           float64\nLike                             float64\nTestSetId                        float64\nCalories                         float64\nFatContent                       float64\nCarbohydrateContent              float64\nFiberContent                     float64\nSugarContent                     float64\nProteinContent                   float64\nVegetableCount                     int64\nMeatCount                          int64\nDairyCount                         int64\nFruitsCount                        int64\nAlcoholCount                       int64\nGlutenContainingGrainsCount        int64\nNutsAndSeedsCount                  int64\nTotalTimeRequired                  int64\nRecipeCategory_Bread                bool\nRecipeCategory_Breakfast            bool\nRecipeCategory_Lunch                bool\nRecipeCategory_One dish meal        bool\nRecipeCategory_Other                bool\nRecipeCategory_Soup                 bool\nWeightFromNutrition              float64\nFatPercentage                    float64\nCarbohydratePercentage           float64\nFiberPercentage                  float64\nSugarPercentage                  float64\nProteinPercentage                float64\nCaloriesPerWeight                float64\nAge                                int64\nDiet_Vegan                          bool\nDiet_Vegetarian                     bool\nTimeRequestFulfilled               int64\nHighCaloriesRequestFulfilled       int64\nLowFatRequestFulfilled             int64\nHighProteinRequestFulfilled        int64\nLowSugarRequestFulfilled           int64\nHighFiberRequestFulfilled          int64\nVegeterianRequestNotFulfilled      int64\nVeganRequestNotFulfilled           int64\nOmnivoreRequestFulfilled           int64\ndtype: object"
     },
     "execution_count": 288,
     "metadata": {},
     "output_type": "execute_result"
    }
   ],
   "source": [
    "full_df.dtypes"
   ],
   "metadata": {
    "collapsed": false,
    "ExecuteTime": {
     "end_time": "2024-01-24T20:22:47.321472Z",
     "start_time": "2024-01-24T20:22:47.309212Z"
    }
   },
   "id": "9b667e02177bd539"
  },
  {
   "cell_type": "code",
   "execution_count": 289,
   "outputs": [],
   "source": [
    "full_df_submission = full_df[full_df[\"Like\"].isnull()]\n",
    "full_df_modelling = full_df[full_df[\"Like\"].notnull()]"
   ],
   "metadata": {
    "collapsed": false,
    "ExecuteTime": {
     "end_time": "2024-01-24T20:22:47.384494Z",
     "start_time": "2024-01-24T20:22:47.317192Z"
    }
   },
   "id": "600d36f48af4050e"
  },
  {
   "cell_type": "markdown",
   "source": [],
   "metadata": {
    "collapsed": false
   },
   "id": "2c9595c4d99b62f5"
  },
  {
   "cell_type": "code",
   "execution_count": 290,
   "outputs": [],
   "source": [
    "from sklearn.model_selection import train_test_split\n",
    "from sklearn.metrics import balanced_accuracy_score\n",
    "\n",
    "\n",
    "#X = full_df_modelling.drop([\"AuthorId\", \"RecipeId\", \"Like\", \"TestSetId\"], axis=1)\n",
    "#X = full_df_modelling.drop([\"AuthorId\", \"Like\", \"TestSetId\"], axis=1)\n",
    "X = full_df_modelling.drop([\"AuthorId\", \"RecipeId\", \"Time\", \"Calories\", \"Like\", \"TestSetId\"], axis=1)\n",
    "#X = full_df_modelling.drop([\"AuthorId\", \"RecipeId\", \"Time\", \"Calories\",\"FatPercentage\", \"CarbohydratePercentage\", \"FiberPercentage\", \"SugarPercentage\", \"CaloriesPerWeight\" \"Like\", \"TestSetId\"], axis=1)\n",
    "\n",
    "y = full_df_modelling[\"Like\"]\n",
    "\n",
    "X_train, X_test, y_train, y_test = \\\n",
    "  train_test_split(X, y,\n",
    "                   test_size=0.3, \n",
    "                   shuffle=True,\n",
    "                   random_state=seed)"
   ],
   "metadata": {
    "collapsed": false,
    "ExecuteTime": {
     "end_time": "2024-01-24T20:22:47.455838Z",
     "start_time": "2024-01-24T20:22:47.387036Z"
    }
   },
   "id": "82a0046c3807f675"
  },
  {
   "cell_type": "code",
   "execution_count": 291,
   "outputs": [
    {
     "data": {
      "text/plain": "0.7113048220468355"
     },
     "execution_count": 291,
     "metadata": {},
     "output_type": "execute_result"
    }
   ],
   "source": [
    "# Run a decision tree\n",
    "from sklearn.tree import DecisionTreeClassifier\n",
    "from sklearn.metrics import balanced_accuracy_score\n",
    "\n",
    "# Create the model\n",
    "dt = DecisionTreeClassifier(random_state=seed)\n",
    "\n",
    "# Fit the model\n",
    "dt.fit(X_train, y_train)\n",
    "\n",
    "predictions = dt.predict(X_test)\n",
    "\n",
    "# Calculate the balanced accuracy score\n",
    "balanced_accuracy_score(y_test, predictions)"
   ],
   "metadata": {
    "collapsed": false,
    "ExecuteTime": {
     "end_time": "2024-01-24T20:22:49.150958Z",
     "start_time": "2024-01-24T20:22:47.460080Z"
    }
   },
   "id": "1b36fba0e7bba43c"
  },
  {
   "cell_type": "markdown",
   "source": [
    "# Run a GradientBooster\n",
    "from sklearn.ensemble import RandomForestClassifier, GradientBoostingClassifier\n",
    "\n",
    "# Create the model\n",
    "gb = GradientBoostingClassifier(n_estimators=500)\n",
    "\n",
    "# Fit the model\n",
    "gb.fit(X_train, y_train)\n",
    "\n",
    "predictions = gb.predict(X_test)\n",
    "\n",
    "# Calculate the balanced accuracy score\n",
    "balanced_accuracy_score(y_test, predictions)"
   ],
   "metadata": {
    "collapsed": false
   },
   "id": "c06fc603ede65c7a"
  },
  {
   "cell_type": "code",
   "execution_count": 298,
   "outputs": [
    {
     "name": "stdout",
     "output_type": "stream",
     "text": [
      "best parameter: {'model': DecisionTreeClassifier(random_state=2024)} (CV score=0.705)\n"
     ]
    }
   ],
   "source": [
    "# searching for best model\n",
    "#   1. LogisticRegression\n",
    "#   2. RandomForestClassifier\n",
    "#   3. GradientBoostingClassifier\n",
    "#   4. SVC/SVM  --> Powerful, particularly effective in high-dimensional spaces.\n",
    "#   5. KNeighborsClassifier (KNN)   --> based on the majority of k-nearest neighbors.\n",
    "#   6. DecisionTreeClassifier   --> based on the partitioning of the feature space.\n",
    "#   7. GaussianNB (Naive Bayes) --> Simple probabilistic classifier based on Bayes's theorem.\n",
    "#   8. MLPClassifier (Neural Network)   --> Multilayer Perceptron, a simple neural network.\n",
    "#   9. K-Means  --> grouping data points into k clusters.\n",
    "\n",
    "from sklearn.linear_model import LogisticRegression\n",
    "from sklearn.ensemble import RandomForestClassifier, GradientBoostingClassifier\n",
    "from sklearn.svm import SVC\n",
    "from sklearn.neighbors import KNeighborsClassifier\n",
    "from sklearn.tree import DecisionTreeClassifier\n",
    "from sklearn.naive_bayes import GaussianNB\n",
    "from sklearn.neural_network import MLPClassifier\n",
    "\n",
    "from sklearn.pipeline import Pipeline\n",
    "from sklearn.model_selection import GridSearchCV\n",
    "\n",
    "# initialize models\n",
    "model_logistic_regression = LogisticRegression(max_iter=1000)\n",
    "model_random_forest = RandomForestClassifier()\n",
    "model_gradient_boosting = GradientBoostingClassifier()\n",
    "model_svm = SVC(max_iter=100)\n",
    "model_knn = KNeighborsClassifier()\n",
    "model_decision_tree = DecisionTreeClassifier(random_state=seed)\n",
    "model_naive_bayes = GaussianNB()\n",
    "model_nn = MLPClassifier(max_iter=1000)\n",
    "\n",
    "# pipeline\n",
    "pipeline = Pipeline(steps=[\n",
    "                #            (\"scaler\", transform_scaler), \n",
    "                 #          (\"pca\", transform_pca),\n",
    "                           (\"model\", None)\n",
    "])\n",
    "\n",
    "# choose PCA n_components\n",
    "parameter_grid_preprocessing = {\n",
    "  \"pca__n_components\" : [1, 2, 3, 4],\n",
    "}\n",
    "\n",
    "# Parameter grids for each model\n",
    "parameter_grid_logistic_regression = {\n",
    "  \"model\" : [model_logistic_regression],\n",
    "  \"model__C\" : [0.1, 1, 10],  # inverse regularization strength\n",
    "}\n",
    "\n",
    "parameter_grid_gradient_boosting = {\n",
    "  \"model\" : [model_gradient_boosting],\n",
    "  \"model__n_estimators\" : [1000]\n",
    "}\n",
    "\n",
    "parameter_grid_random_forest = {\n",
    "  \"model\" : [model_random_forest],\n",
    "  \"model__n_estimators\" : [3, 50, 80],  # number of max trees in the forest\n",
    "  \"model__max_depth\" : [None, 50, 100],\n",
    "}\n",
    "\n",
    "parameter_grid_svm = {\n",
    "    \"model\": [model_svm],\n",
    "    \"model__C\": [0.1, 1, 10],\n",
    "    \"model__kernel\": [\"linear\", \"rbf\"],\n",
    "}\n",
    "\n",
    "parameter_grid_knn = {\n",
    "    \"model\": [model_knn],\n",
    "    \"model__n_neighbors\": [3, 5, 7],\n",
    "}\n",
    "\n",
    "parameter_grid_decision_tree = {\n",
    "    \"model\": [model_decision_tree],\n",
    "#    \"model__criterion\": ['gini', 'entropy'],\n",
    "#    \"model__max_depth\": [None, 10, 50, 100],\n",
    "#    \"model__min_samples_split\": [2, 5, 10],\n",
    "#    \"model__min_samples_leaf\": [1, 2, 4],\n",
    "}\n",
    "\n",
    "parameter_grid_naive_bayes = {\n",
    "    \"model\": [model_naive_bayes],\n",
    "}\n",
    "\n",
    "parameter_grid_nn = {\n",
    "    \"model\": [model_nn],\n",
    "    \"model__hidden_layer_sizes\": [(50, 50), (100,)],\n",
    "}\n",
    "\n",
    "# choose models for pipeline\n",
    "meta_parameter_grid = [\n",
    "             #           parameter_grid_logistic_regression,\n",
    "                #       parameter_grid_gradient_boosting,\n",
    "               #        parameter_grid_random_forest,\n",
    "           #            parameter_grid_svm,\n",
    "                 #      parameter_grid_knn,\n",
    "                       parameter_grid_decision_tree,\n",
    "              #         parameter_grid_naive_bayes,\n",
    "              #         parameter_grid_nn\n",
    "]\n",
    "\n",
    "# choose whether preprocessing or not\n",
    "#meta_parameter_grid = [{**parameter_grid_preprocessing, **model_grid}\n",
    "#                       for model_grid in meta_parameter_grid]\n",
    "\n",
    "search = GridSearchCV(pipeline,\n",
    "                      meta_parameter_grid, \n",
    "                      scoring=\"balanced_accuracy\",\n",
    "                      n_jobs=8,     # number of kernels on your Mac\n",
    "                      cv=5,         # number of folds for cross-validation \n",
    "                      error_score=\"raise\"\n",
    ")\n",
    "# here, the actual training and grid search happens\n",
    "search.fit(X_train, y_train.values.ravel())\n",
    "\n",
    "print(\"best parameter:\", search.best_params_ ,\"(CV score=%0.3f)\" % search.best_score_)"
   ],
   "metadata": {
    "collapsed": false,
    "ExecuteTime": {
     "end_time": "2024-01-24T20:24:53.779886Z",
     "start_time": "2024-01-24T20:24:46.093722Z"
    }
   },
   "id": "98800ea694c1ef48"
  },
  {
   "cell_type": "code",
   "execution_count": 296,
   "outputs": [
    {
     "name": "stdout",
     "output_type": "stream",
     "text": [
      "{'model': DecisionTreeClassifier(random_state=2024)} 0.7052897874745929\n",
      "None\n"
     ]
    },
    {
     "data": {
      "text/plain": "        HighCalories  HighProtein  LowFat  LowSugar  HighFiber  Rating  \\\n130538             1            1       0         1          0    0.00   \n134938             1            0       1         1          0    2.00   \n55042              0            1       0         1          0    2.00   \n125120             0            0       0         1          0    2.00   \n102628             1            1       1         1          1    2.00   \n...              ...          ...     ...       ...        ...     ...   \n68864              1            0       0         1          1    0.00   \n52378              1            0       0         1          0    2.00   \n74631              1            0       0         1          0    2.00   \n76235              1            1       0         1          0    0.00   \n11628              0            0       1         1          0    2.00   \n\n        FatContent  CarbohydrateContent  FiberContent  SugarContent  ...  \\\n130538        2.50                21.90          0.90          0.30  ...   \n134938       51.80                54.90         16.80          9.50  ...   \n55042        21.40                65.70          0.20         62.20  ...   \n125120        4.20                12.30          0.40          5.30  ...   \n102628        6.80                 8.40          0.20          7.20  ...   \n...            ...                  ...           ...           ...  ...   \n68864         0.30                10.80          1.10          9.50  ...   \n52378        22.20                 5.50          2.20          1.80  ...   \n74631         7.20                19.70          4.30          9.20  ...   \n76235        67.70                10.50          1.70          4.30  ...   \n11628        12.50                36.40          6.30         27.00  ...   \n\n        Diet_Vegetarian  TimeRequestFulfilled  HighCaloriesRequestFulfilled  \\\n130538             True                     1                             0   \n134938            False                     1                             1   \n55042              True                     0                             0   \n125120            False                     0                             0   \n102628             True                     0                             0   \n...                 ...                   ...                           ...   \n68864              True                     1                             0   \n52378              True                     1                             0   \n74631              True                     0                             0   \n76235              True                     1                             1   \n11628              True                     1                             0   \n\n        LowFatRequestFulfilled  HighProteinRequestFulfilled  \\\n130538                       0                            0   \n134938                       0                            0   \n55042                        0                            0   \n125120                       0                            0   \n102628                       1                            0   \n...                        ...                          ...   \n68864                        0                            0   \n52378                        0                            0   \n74631                        0                            0   \n76235                        0                            1   \n11628                        1                            0   \n\n        LowSugarRequestFulfilled  HighFiberRequestFulfilled  \\\n130538                         1                          0   \n134938                         0                          1   \n55042                          0                          0   \n125120                         1                          0   \n102628                         0                          0   \n...                          ...                        ...   \n68864                          0                          0   \n52378                          1                          0   \n74631                          0                          0   \n76235                          1                          0   \n11628                          0                          1   \n\n        VegeterianRequestNotFulfilled  VeganRequestNotFulfilled  \\\n130538                              0                         0   \n134938                              0                         0   \n55042                               0                         0   \n125120                              0                         1   \n102628                              1                         0   \n...                               ...                       ...   \n68864                               0                         0   \n52378                               0                         0   \n74631                               0                         0   \n76235                               1                         0   \n11628                               0                         0   \n\n        OmnivoreRequestFulfilled  \n130538                         0  \n134938                         1  \n55042                          0  \n125120                         0  \n102628                         0  \n...                          ...  \n68864                          0  \n52378                          0  \n74631                          0  \n76235                          0  \n11628                          0  \n\n[68166 rows x 44 columns]",
      "text/html": "<div>\n<style scoped>\n    .dataframe tbody tr th:only-of-type {\n        vertical-align: middle;\n    }\n\n    .dataframe tbody tr th {\n        vertical-align: top;\n    }\n\n    .dataframe thead th {\n        text-align: right;\n    }\n</style>\n<table border=\"1\" class=\"dataframe\">\n  <thead>\n    <tr style=\"text-align: right;\">\n      <th></th>\n      <th>HighCalories</th>\n      <th>HighProtein</th>\n      <th>LowFat</th>\n      <th>LowSugar</th>\n      <th>HighFiber</th>\n      <th>Rating</th>\n      <th>FatContent</th>\n      <th>CarbohydrateContent</th>\n      <th>FiberContent</th>\n      <th>SugarContent</th>\n      <th>...</th>\n      <th>Diet_Vegetarian</th>\n      <th>TimeRequestFulfilled</th>\n      <th>HighCaloriesRequestFulfilled</th>\n      <th>LowFatRequestFulfilled</th>\n      <th>HighProteinRequestFulfilled</th>\n      <th>LowSugarRequestFulfilled</th>\n      <th>HighFiberRequestFulfilled</th>\n      <th>VegeterianRequestNotFulfilled</th>\n      <th>VeganRequestNotFulfilled</th>\n      <th>OmnivoreRequestFulfilled</th>\n    </tr>\n  </thead>\n  <tbody>\n    <tr>\n      <th>130538</th>\n      <td>1</td>\n      <td>1</td>\n      <td>0</td>\n      <td>1</td>\n      <td>0</td>\n      <td>0.00</td>\n      <td>2.50</td>\n      <td>21.90</td>\n      <td>0.90</td>\n      <td>0.30</td>\n      <td>...</td>\n      <td>True</td>\n      <td>1</td>\n      <td>0</td>\n      <td>0</td>\n      <td>0</td>\n      <td>1</td>\n      <td>0</td>\n      <td>0</td>\n      <td>0</td>\n      <td>0</td>\n    </tr>\n    <tr>\n      <th>134938</th>\n      <td>1</td>\n      <td>0</td>\n      <td>1</td>\n      <td>1</td>\n      <td>0</td>\n      <td>2.00</td>\n      <td>51.80</td>\n      <td>54.90</td>\n      <td>16.80</td>\n      <td>9.50</td>\n      <td>...</td>\n      <td>False</td>\n      <td>1</td>\n      <td>1</td>\n      <td>0</td>\n      <td>0</td>\n      <td>0</td>\n      <td>1</td>\n      <td>0</td>\n      <td>0</td>\n      <td>1</td>\n    </tr>\n    <tr>\n      <th>55042</th>\n      <td>0</td>\n      <td>1</td>\n      <td>0</td>\n      <td>1</td>\n      <td>0</td>\n      <td>2.00</td>\n      <td>21.40</td>\n      <td>65.70</td>\n      <td>0.20</td>\n      <td>62.20</td>\n      <td>...</td>\n      <td>True</td>\n      <td>0</td>\n      <td>0</td>\n      <td>0</td>\n      <td>0</td>\n      <td>0</td>\n      <td>0</td>\n      <td>0</td>\n      <td>0</td>\n      <td>0</td>\n    </tr>\n    <tr>\n      <th>125120</th>\n      <td>0</td>\n      <td>0</td>\n      <td>0</td>\n      <td>1</td>\n      <td>0</td>\n      <td>2.00</td>\n      <td>4.20</td>\n      <td>12.30</td>\n      <td>0.40</td>\n      <td>5.30</td>\n      <td>...</td>\n      <td>False</td>\n      <td>0</td>\n      <td>0</td>\n      <td>0</td>\n      <td>0</td>\n      <td>1</td>\n      <td>0</td>\n      <td>0</td>\n      <td>1</td>\n      <td>0</td>\n    </tr>\n    <tr>\n      <th>102628</th>\n      <td>1</td>\n      <td>1</td>\n      <td>1</td>\n      <td>1</td>\n      <td>1</td>\n      <td>2.00</td>\n      <td>6.80</td>\n      <td>8.40</td>\n      <td>0.20</td>\n      <td>7.20</td>\n      <td>...</td>\n      <td>True</td>\n      <td>0</td>\n      <td>0</td>\n      <td>1</td>\n      <td>0</td>\n      <td>0</td>\n      <td>0</td>\n      <td>1</td>\n      <td>0</td>\n      <td>0</td>\n    </tr>\n    <tr>\n      <th>...</th>\n      <td>...</td>\n      <td>...</td>\n      <td>...</td>\n      <td>...</td>\n      <td>...</td>\n      <td>...</td>\n      <td>...</td>\n      <td>...</td>\n      <td>...</td>\n      <td>...</td>\n      <td>...</td>\n      <td>...</td>\n      <td>...</td>\n      <td>...</td>\n      <td>...</td>\n      <td>...</td>\n      <td>...</td>\n      <td>...</td>\n      <td>...</td>\n      <td>...</td>\n      <td>...</td>\n    </tr>\n    <tr>\n      <th>68864</th>\n      <td>1</td>\n      <td>0</td>\n      <td>0</td>\n      <td>1</td>\n      <td>1</td>\n      <td>0.00</td>\n      <td>0.30</td>\n      <td>10.80</td>\n      <td>1.10</td>\n      <td>9.50</td>\n      <td>...</td>\n      <td>True</td>\n      <td>1</td>\n      <td>0</td>\n      <td>0</td>\n      <td>0</td>\n      <td>0</td>\n      <td>0</td>\n      <td>0</td>\n      <td>0</td>\n      <td>0</td>\n    </tr>\n    <tr>\n      <th>52378</th>\n      <td>1</td>\n      <td>0</td>\n      <td>0</td>\n      <td>1</td>\n      <td>0</td>\n      <td>2.00</td>\n      <td>22.20</td>\n      <td>5.50</td>\n      <td>2.20</td>\n      <td>1.80</td>\n      <td>...</td>\n      <td>True</td>\n      <td>1</td>\n      <td>0</td>\n      <td>0</td>\n      <td>0</td>\n      <td>1</td>\n      <td>0</td>\n      <td>0</td>\n      <td>0</td>\n      <td>0</td>\n    </tr>\n    <tr>\n      <th>74631</th>\n      <td>1</td>\n      <td>0</td>\n      <td>0</td>\n      <td>1</td>\n      <td>0</td>\n      <td>2.00</td>\n      <td>7.20</td>\n      <td>19.70</td>\n      <td>4.30</td>\n      <td>9.20</td>\n      <td>...</td>\n      <td>True</td>\n      <td>0</td>\n      <td>0</td>\n      <td>0</td>\n      <td>0</td>\n      <td>0</td>\n      <td>0</td>\n      <td>0</td>\n      <td>0</td>\n      <td>0</td>\n    </tr>\n    <tr>\n      <th>76235</th>\n      <td>1</td>\n      <td>1</td>\n      <td>0</td>\n      <td>1</td>\n      <td>0</td>\n      <td>0.00</td>\n      <td>67.70</td>\n      <td>10.50</td>\n      <td>1.70</td>\n      <td>4.30</td>\n      <td>...</td>\n      <td>True</td>\n      <td>1</td>\n      <td>1</td>\n      <td>0</td>\n      <td>1</td>\n      <td>1</td>\n      <td>0</td>\n      <td>1</td>\n      <td>0</td>\n      <td>0</td>\n    </tr>\n    <tr>\n      <th>11628</th>\n      <td>0</td>\n      <td>0</td>\n      <td>1</td>\n      <td>1</td>\n      <td>0</td>\n      <td>2.00</td>\n      <td>12.50</td>\n      <td>36.40</td>\n      <td>6.30</td>\n      <td>27.00</td>\n      <td>...</td>\n      <td>True</td>\n      <td>1</td>\n      <td>0</td>\n      <td>1</td>\n      <td>0</td>\n      <td>0</td>\n      <td>1</td>\n      <td>0</td>\n      <td>0</td>\n      <td>0</td>\n    </tr>\n  </tbody>\n</table>\n<p>68166 rows × 44 columns</p>\n</div>"
     },
     "execution_count": 296,
     "metadata": {},
     "output_type": "execute_result"
    }
   ],
   "source": [
    "# for a detailed look on the performance of the different models\n",
    "def get_search_score_overview():\n",
    "  for c,s in zip(search.cv_results_[\"params\"],search.cv_results_[\"mean_test_score\"]):\n",
    "      print(c, s)\n",
    "\n",
    "print(get_search_score_overview())\n",
    "X_train"
   ],
   "metadata": {
    "collapsed": false,
    "ExecuteTime": {
     "end_time": "2024-01-24T20:24:12.038529Z",
     "start_time": "2024-01-24T20:24:11.960551Z"
    }
   },
   "id": "4d6ee5a15963cb4d"
  },
  {
   "cell_type": "code",
   "execution_count": 294,
   "outputs": [
    {
     "data": {
      "text/plain": "<Figure size 1000x600 with 1 Axes>",
      "image/png": "[encoded data removed]"
     },
     "metadata": {},
     "output_type": "display_data"
    }
   ],
   "source": [
    "plt.figure(figsize=(10, 6))\n",
    "sns.boxplot(x='MeatCount', y='Age', data=full_df)\n",
    "plt.title('Distribution of Numerical Attribute for Each Category')\n",
    "plt.xlabel('Categorical Attribute')\n",
    "plt.ylabel('Numerical Attribute')\n",
    "plt.xticks(rotation=45)  # Useful if the labels are long or there are many categories\n",
    "plt.show()"
   ],
   "metadata": {
    "collapsed": false,
    "ExecuteTime": {
     "end_time": "2024-01-24T20:22:54.327366Z",
     "start_time": "2024-01-24T20:22:53.748205Z"
    }
   },
   "id": "71e49d5aec2533c2"
  },
  {
   "cell_type": "code",
   "execution_count": 294,
   "outputs": [],
   "source": [],
   "metadata": {
    "collapsed": false,
    "ExecuteTime": {
     "end_time": "2024-01-24T20:22:54.338664Z",
     "start_time": "2024-01-24T20:22:54.327740Z"
    }
   },
   "id": "d50ab740ed04282b"
  }
 ],
 "metadata": {
  "kernelspec": {
   "display_name": "Python 3",
   "language": "python",
   "name": "python3"
  },
  "language_info": {
   "codemirror_mode": {
    "name": "ipython",
    "version": 2
   },
   "file_extension": ".py",
   "mimetype": "text/x-python",
   "name": "python",
   "nbconvert_exporter": "python",
   "pygments_lexer": "ipython2",
   "version": "2.7.6"
  }
 },
 "nbformat": 4,
 "nbformat_minor": 5
}
