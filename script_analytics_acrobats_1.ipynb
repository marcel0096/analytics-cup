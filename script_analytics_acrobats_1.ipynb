{
 "cells": [
  {
   "cell_type": "markdown",
   "metadata": {},
   "source": [
    "Team Name: **Analytics Acrobats**\n",
    "\n",
    "Submission: **1**"
   ]
  },
  {
   "cell_type": "code",
   "execution_count": 42,
   "metadata": {},
   "outputs": [],
   "source": [
    "# Import required packages\n",
    "\n",
    "import pandas as pd\n",
    "import numpy as np\n",
    "import matplotlib.pyplot as plt\n",
    "import seaborn as sns"
   ]
  },
  {
   "cell_type": "code",
   "execution_count": 43,
   "metadata": {},
   "outputs": [],
   "source": [
    "# Set seed to ensure reproducibility\n",
    "\n",
    "seed = 2024\n",
    "np.random.seed(seed)"
   ]
  },
  {
   "cell_type": "code",
   "execution_count": 44,
   "metadata": {},
   "outputs": [
    {
     "name": "stderr",
     "output_type": "stream",
     "text": [
      "/var/folders/wd/38kzp1bn5139zlz7q02hldnw0000gn/T/ipykernel_11677/2005861649.py:5: DtypeWarning: Columns (3) have mixed types. Specify dtype option on import or set low_memory=False.\n",
      "  reviews = pd.read_csv('reviews.csv')\n"
     ]
    }
   ],
   "source": [
    "# Load datasets\n",
    "\n",
    "diet = pd.read_csv('diet.csv')\n",
    "requests = pd.read_csv('requests.csv')\n",
    "reviews = pd.read_csv('reviews.csv')\n",
    "recipes = pd.read_csv('recipes.csv')"
   ]
  },
  {
   "cell_type": "code",
   "execution_count": 45,
   "metadata": {},
   "outputs": [
    {
     "name": "stdout",
     "output_type": "stream",
     "text": [
      "    AuthorId        Diet  Age\n",
      "0  10000120E  Vegetarian   46\n",
      "1   1000014D       Vegan   18\n",
      "2   1000015A  Vegetarian   58\n",
      "3   1000016E  Vegetarian   32\n",
      "4   1000027E       Vegan   61\n",
      "<class 'pandas.core.frame.DataFrame'>\n",
      "RangeIndex: 271907 entries, 0 to 271906\n",
      "Data columns (total 3 columns):\n",
      " #   Column    Non-Null Count   Dtype \n",
      "---  ------    --------------   ----- \n",
      " 0   AuthorId  271907 non-null  object\n",
      " 1   Diet      271906 non-null  object\n",
      " 2   Age       271907 non-null  int64 \n",
      "dtypes: int64(1), object(2)\n",
      "memory usage: 6.2+ MB\n",
      "None\n",
      "AuthorId    0\n",
      "Diet        1\n",
      "Age         0\n",
      "dtype: int64\n"
     ]
    }
   ],
   "source": [
    "# Get overview of the datasets\n",
    "\n",
    "print(diet.head())\n",
    "print(diet.info())\n",
    "print(diet.isnull().sum())\n",
    "\n",
    "# --> One missing value in diet column"
   ]
  },
  {
   "cell_type": "code",
   "execution_count": 46,
   "metadata": {},
   "outputs": [
    {
     "name": "stdout",
     "output_type": "stream",
     "text": [
      "   RecipeId                                      Name  CookTime  PrepTime  \\\n",
      "0     73440              Bow Ties With Broccoli Pesto         0      1800   \n",
      "1    365718                       Cashew-chutney Rice      3600       600   \n",
      "2    141757  Copycat Taco Bell Nacho Fries BellGrande      3600      2700   \n",
      "3    280351  Slow Cooker Jalapeno Cheddar Cheese Soup     18000      1800   \n",
      "4    180505           Cool & Crisp Citrus Chiffon Pie      3600      1800   \n",
      "\n",
      "  RecipeCategory                         RecipeIngredientQuantities  \\\n",
      "0          Other  c(\"\\\"6\\\"\", \"\\\"2\\\"\", \"\\\"1 1/2\\\"\", \"\\\"1/4\\\"\", \"\\...   \n",
      "1          Other  c(\"\\\"1\\\"\", \"\\\"3/4\\\"\", \"\\\"6\\\"\", \"\\\"5\\\"\", \"\\\"2\\\"...   \n",
      "2          Other  c(\"\\\"3\\\"\", \"\\\"1/2\\\"\", \"\\\"1\\\"\", \"\\\"1\\\"\", \"\\\"3\\\"...   \n",
      "3          Other  c(\"\\\"2\\\"\", \"\\\"1\\\"\", \"\\\"2\\\"\", \"\\\"2\\\"\", \"\\\"1\\\"\",...   \n",
      "4          Other  c(\"\\\"1\\\"\", \"\\\"1/4\\\"\", \"\\\"1/2\\\"\", \"\\\"1/2\\\"\", \"\\...   \n",
      "\n",
      "                               RecipeIngredientParts  Calories  FatContent  \\\n",
      "0  c(\"\\\"hazelnuts\\\"\", \"\\\"broccoli florets\\\"\", \"\\\"...     241.3        10.1   \n",
      "1  c(\"\\\"celery\\\"\", \"\\\"onion\\\"\", \"\\\"butter\\\"\", \"\\\"...     370.8        17.5   \n",
      "2  c(\"\\\"Copycat Taco Bell Seasoned Beef\\\"\", \"\\\"ye...     377.6        20.9   \n",
      "3  c(\"\\\"unsalted butter\\\"\", \"\\\"yellow onion\\\"\", \"...     282.8        16.5   \n",
      "4  c(\"\\\"unflavored gelatin\\\"\", \"\\\"water\\\"\", \"\\\"su...     257.5         8.6   \n",
      "\n",
      "   SaturatedFatContent  CholesterolContent  SodiumContent  \\\n",
      "0                  1.2                 0.0           13.1   \n",
      "1                  7.2                22.9          553.3   \n",
      "2                 10.5                45.7         1501.8   \n",
      "3                 10.3                50.5          630.2   \n",
      "4                  2.4               110.7          160.9   \n",
      "\n",
      "   CarbohydrateContent  FiberContent  SugarContent  ProteinContent  \\\n",
      "0                 31.8           2.3           1.4             6.7   \n",
      "1                 44.3           1.6           2.2             9.4   \n",
      "2                 36.6           3.8           6.1            12.9   \n",
      "3                 22.8           2.3           2.7            11.7   \n",
      "4                 39.8           0.4          30.2             6.3   \n",
      "\n",
      "   RecipeServings RecipeYield  \n",
      "0             9.0         NaN  \n",
      "1             8.0         NaN  \n",
      "2             8.0         NaN  \n",
      "3             6.0         NaN  \n",
      "4             6.0         NaN  \n",
      "<class 'pandas.core.frame.DataFrame'>\n",
      "RangeIndex: 75604 entries, 0 to 75603\n",
      "Data columns (total 18 columns):\n",
      " #   Column                      Non-Null Count  Dtype  \n",
      "---  ------                      --------------  -----  \n",
      " 0   RecipeId                    75604 non-null  int64  \n",
      " 1   Name                        75604 non-null  object \n",
      " 2   CookTime                    75604 non-null  int64  \n",
      " 3   PrepTime                    75604 non-null  int64  \n",
      " 4   RecipeCategory              75604 non-null  object \n",
      " 5   RecipeIngredientQuantities  75604 non-null  object \n",
      " 6   RecipeIngredientParts       75604 non-null  object \n",
      " 7   Calories                    75604 non-null  float64\n",
      " 8   FatContent                  75604 non-null  float64\n",
      " 9   SaturatedFatContent         75604 non-null  float64\n",
      " 10  CholesterolContent          75604 non-null  float64\n",
      " 11  SodiumContent               75604 non-null  float64\n",
      " 12  CarbohydrateContent         75604 non-null  float64\n",
      " 13  FiberContent                75604 non-null  float64\n",
      " 14  SugarContent                75604 non-null  float64\n",
      " 15  ProteinContent              75604 non-null  float64\n",
      " 16  RecipeServings              48891 non-null  float64\n",
      " 17  RecipeYield                 25309 non-null  object \n",
      "dtypes: float64(10), int64(3), object(5)\n",
      "memory usage: 10.4+ MB\n",
      "None\n",
      "RecipeId                          0\n",
      "Name                              0\n",
      "CookTime                          0\n",
      "PrepTime                          0\n",
      "RecipeCategory                    0\n",
      "RecipeIngredientQuantities        0\n",
      "RecipeIngredientParts             0\n",
      "Calories                          0\n",
      "FatContent                        0\n",
      "SaturatedFatContent               0\n",
      "CholesterolContent                0\n",
      "SodiumContent                     0\n",
      "CarbohydrateContent               0\n",
      "FiberContent                      0\n",
      "SugarContent                      0\n",
      "ProteinContent                    0\n",
      "RecipeServings                26713\n",
      "RecipeYield                   50295\n",
      "dtype: int64\n"
     ]
    }
   ],
   "source": [
    "# Get overview of the datasets\n",
    "\n",
    "print(recipes.head())\n",
    "print(recipes.info())\n",
    "print(recipes.isnull().sum())\n",
    "\n",
    "# --> Missing values in columns RecipeServings and RecipeYield"
   ]
  },
  {
   "cell_type": "code",
   "execution_count": 47,
   "metadata": {},
   "outputs": [
    {
     "name": "stdout",
     "output_type": "stream",
     "text": [
      "      AuthorId  RecipeId  Rating Like  TestSetId\n",
      "0     2492191A     33671     2.0  NaN        1.0\n",
      "1  2002019979A     92647     2.0  NaN        2.0\n",
      "2      408594E    161770     NaN  NaN        3.0\n",
      "3  2001625557E    108231     2.0  NaN        4.0\n",
      "4  2001427116E     71109     NaN  NaN        5.0\n",
      "<class 'pandas.core.frame.DataFrame'>\n",
      "RangeIndex: 140195 entries, 0 to 140194\n",
      "Data columns (total 5 columns):\n",
      " #   Column     Non-Null Count   Dtype  \n",
      "---  ------     --------------   -----  \n",
      " 0   AuthorId   140195 non-null  object \n",
      " 1   RecipeId   140195 non-null  int64  \n",
      " 2   Rating     77108 non-null   float64\n",
      " 3   Like       97381 non-null   object \n",
      " 4   TestSetId  42814 non-null   float64\n",
      "dtypes: float64(2), int64(1), object(2)\n",
      "memory usage: 5.3+ MB\n",
      "None\n",
      "AuthorId         0\n",
      "RecipeId         0\n",
      "Rating       63087\n",
      "Like         42814\n",
      "TestSetId    97381\n",
      "dtype: int64\n"
     ]
    }
   ],
   "source": [
    "# Get overview of the datasets\n",
    "\n",
    "print(reviews.head())\n",
    "print(reviews.info())\n",
    "print(reviews.isnull().sum())\n",
    "\n",
    "# --> Missing values in columns Rating, Like and TestSetId"
   ]
  },
  {
   "cell_type": "code",
   "execution_count": 48,
   "metadata": {},
   "outputs": [
    {
     "name": "stdout",
     "output_type": "stream",
     "text": [
      "      AuthorId  RecipeId          Time  HighCalories  HighProtein  LowFat  \\\n",
      "0  2001012259B     73440   1799.950949           0.0  Indifferent       0   \n",
      "1      437641B    365718   4201.820980           0.0          Yes       0   \n",
      "2  1803340263D    141757   6299.861496           0.0  Indifferent       1   \n",
      "3      854048B    280351  19801.365796           0.0          Yes       1   \n",
      "4     2277685E    180505   5400.093457           0.0  Indifferent       0   \n",
      "\n",
      "      LowSugar  HighFiber  \n",
      "0            0          0  \n",
      "1  Indifferent          1  \n",
      "2  Indifferent          0  \n",
      "3            0          1  \n",
      "4            0          0  \n",
      "<class 'pandas.core.frame.DataFrame'>\n",
      "RangeIndex: 140195 entries, 0 to 140194\n",
      "Data columns (total 8 columns):\n",
      " #   Column        Non-Null Count   Dtype  \n",
      "---  ------        --------------   -----  \n",
      " 0   AuthorId      140195 non-null  object \n",
      " 1   RecipeId      140195 non-null  int64  \n",
      " 2   Time          140195 non-null  float64\n",
      " 3   HighCalories  140195 non-null  float64\n",
      " 4   HighProtein   140195 non-null  object \n",
      " 5   LowFat        140195 non-null  int64  \n",
      " 6   LowSugar      140195 non-null  object \n",
      " 7   HighFiber     140195 non-null  int64  \n",
      "dtypes: float64(2), int64(3), object(3)\n",
      "memory usage: 8.6+ MB\n",
      "None\n",
      "AuthorId        0\n",
      "RecipeId        0\n",
      "Time            0\n",
      "HighCalories    0\n",
      "HighProtein     0\n",
      "LowFat          0\n",
      "LowSugar        0\n",
      "HighFiber       0\n",
      "dtype: int64\n"
     ]
    }
   ],
   "source": [
    "# Get overview of the datasets\n",
    "\n",
    "print(requests.head())\n",
    "print(requests.info())\n",
    "print(requests.isnull().sum())\n",
    "\n",
    "# --> No missing values"
   ]
  }
 ],
 "metadata": {
  "kernelspec": {
   "display_name": "base",
   "language": "python",
   "name": "python3"
  },
  "language_info": {
   "codemirror_mode": {
    "name": "ipython",
    "version": 3
   },
   "file_extension": ".py",
   "mimetype": "text/x-python",
   "name": "python",
   "nbconvert_exporter": "python",
   "pygments_lexer": "ipython3",
   "version": "3.9.18"
  }
 },
 "nbformat": 4,
 "nbformat_minor": 2
}
