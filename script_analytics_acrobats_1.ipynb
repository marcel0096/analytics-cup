{
 "cells": [
  {
   "cell_type": "markdown",
   "metadata": {},
   "source": [
    "# Team Name: **Analytics Acrobats**\n",
    "\n",
    "### Submission: **1**"
   ]
  },
  {
   "cell_type": "markdown",
   "metadata": {},
   "source": [
    "## Setup"
   ]
  },
  {
   "cell_type": "code",
   "execution_count": 40,
   "metadata": {
    "ExecuteTime": {
     "end_time": "2024-01-12T12:19:08.834850Z",
     "start_time": "2024-01-12T12:19:08.469728Z"
    }
   },
   "outputs": [],
   "source": [
    "# Import required packages\n",
    "\n",
    "import pandas as pd\n",
    "import numpy as np\n",
    "import matplotlib.pyplot as plt\n",
    "import seaborn as sns"
   ]
  },
  {
   "cell_type": "code",
   "execution_count": 41,
   "metadata": {
    "ExecuteTime": {
     "end_time": "2024-01-12T12:19:09.021642Z",
     "start_time": "2024-01-12T12:19:08.478833Z"
    }
   },
   "outputs": [],
   "source": [
    "# Set seed to ensure reproducibility\n",
    "\n",
    "seed = 2024\n",
    "np.random.seed(seed)"
   ]
  },
  {
   "cell_type": "code",
   "execution_count": 42,
   "metadata": {
    "ExecuteTime": {
     "end_time": "2024-01-12T12:19:09.547415Z",
     "start_time": "2024-01-12T12:19:08.486340Z"
    }
   },
   "outputs": [
    {
     "name": "stderr",
     "output_type": "stream",
     "text": [
      "/var/folders/_4/9t_lhqh15ps7xbdf5qrr2sg40000gn/T/ipykernel_72760/3826872962.py:5: DtypeWarning: Columns (3) have mixed types. Specify dtype option on import or set low_memory=False.\n",
      "  reviews = pd.read_csv('reviews.csv')\n"
     ]
    }
   ],
   "source": [
    "# Load datasets\n",
    "\n",
    "diet = pd.read_csv('diet.csv')\n",
    "requests = pd.read_csv('requests.csv')\n",
    "reviews = pd.read_csv('reviews.csv')\n",
    "recipes = pd.read_csv('recipes.csv')"
   ]
  },
  {
   "cell_type": "markdown",
   "metadata": {},
   "source": [
    "## Data Understanding & Cleaning"
   ]
  },
  {
   "cell_type": "markdown",
   "metadata": {},
   "source": [
    "### diet.csv"
   ]
  },
  {
   "cell_type": "markdown",
   "metadata": {},
   "source": [
    "#### Overview"
   ]
  },
  {
   "cell_type": "code",
   "execution_count": 43,
   "metadata": {
    "ExecuteTime": {
     "end_time": "2024-01-12T12:19:09.602808Z",
     "start_time": "2024-01-12T12:19:09.565966Z"
    }
   },
   "outputs": [
    {
     "name": "stdout",
     "output_type": "stream",
     "text": [
      "    AuthorId        Diet  Age\n",
      "0  10000120E  Vegetarian   46\n",
      "1   1000014D       Vegan   18\n",
      "2   1000015A  Vegetarian   58\n",
      "3   1000016E  Vegetarian   32\n",
      "4   1000027E       Vegan   61\n",
      "<class 'pandas.core.frame.DataFrame'>\n",
      "RangeIndex: 271907 entries, 0 to 271906\n",
      "Data columns (total 3 columns):\n",
      " #   Column    Non-Null Count   Dtype \n",
      "---  ------    --------------   ----- \n",
      " 0   AuthorId  271907 non-null  object\n",
      " 1   Diet      271906 non-null  object\n",
      " 2   Age       271907 non-null  int64 \n",
      "dtypes: int64(1), object(2)\n",
      "memory usage: 6.2+ MB\n",
      "None\n",
      "AuthorId    0\n",
      "Diet        1\n",
      "Age         0\n",
      "dtype: int64\n"
     ]
    }
   ],
   "source": [
    "# Get overview of the diet dataset\n",
    "\n",
    "print(diet.head())\n",
    "print(diet.info())\n",
    "print(diet.isnull().sum())\n",
    "\n",
    "# --> One missing value in \"Diet\" column"
   ]
  },
  {
   "cell_type": "code",
   "execution_count": 44,
   "metadata": {
    "ExecuteTime": {
     "end_time": "2024-01-12T12:19:11.178721Z",
     "start_time": "2024-01-12T12:19:09.603812Z"
    }
   },
   "outputs": [
    {
     "name": "stdout",
     "output_type": "stream",
     "text": [
      "                 Age\n",
      "count  271907.000000\n",
      "mean       48.503727\n",
      "std        17.898130\n",
      "min        18.000000\n",
      "25%        33.000000\n",
      "50%        48.000000\n",
      "75%        64.000000\n",
      "max        79.000000\n",
      "Axes(0.125,0.11;0.775x0.77)\n",
      "Axes(0.125,0.11;0.775x0.77)\n"
     ]
    },
    {
     "data": {
      "text/plain": "<Figure size 640x480 with 1 Axes>",
      "image/png": "[encoded data removed]"
     },
     "metadata": {},
     "output_type": "display_data"
    }
   ],
   "source": [
    "# Descriptives for diet dataset\n",
    "\n",
    "print(diet.describe())\n",
    "\n",
    "# boxplot for age\n",
    "print(sns.boxplot(diet));\n",
    "\n",
    "# barplot for diet\n",
    "\n",
    "print(sns.countplot(x='Diet', data=diet));"
   ]
  },
  {
   "cell_type": "code",
   "execution_count": 45,
   "metadata": {
    "ExecuteTime": {
     "end_time": "2024-01-12T12:19:11.254220Z",
     "start_time": "2024-01-12T12:19:11.200327Z"
    }
   },
   "outputs": [
    {
     "name": "stdout",
     "output_type": "stream",
     "text": [
      "       AuthorId Diet  Age\n",
      "242181  646062A  NaN   63\n"
     ]
    }
   ],
   "source": [
    "# Show rows with missing values in diet dataset\n",
    "\n",
    "print(diet[diet.isnull().any(axis=1)])\n",
    "\n",
    "# what does this user do in the other tables? -> user has no requests or reviews"
   ]
  },
  {
   "cell_type": "markdown",
   "metadata": {},
   "source": [
    "#### Handle Missing Values"
   ]
  },
  {
   "cell_type": "code",
   "execution_count": 46,
   "metadata": {
    "ExecuteTime": {
     "end_time": "2024-01-12T12:19:11.255431Z",
     "start_time": "2024-01-12T12:19:11.227523Z"
    }
   },
   "outputs": [],
   "source": [
    "# Since there is only one row, drop rows with missing values in diet dataset\n",
    "\n",
    "diet = diet.dropna()"
   ]
  },
  {
   "cell_type": "markdown",
   "metadata": {},
   "source": [
    "#### Fix data types"
   ]
  },
  {
   "cell_type": "code",
   "execution_count": 47,
   "metadata": {
    "ExecuteTime": {
     "end_time": "2024-01-12T12:19:11.273395Z",
     "start_time": "2024-01-12T12:19:11.245937Z"
    }
   },
   "outputs": [],
   "source": [
    "# Make column \"Diet\" of type category\n",
    "\n",
    "diet['Diet'] = diet['Diet'].astype('category')"
   ]
  },
  {
   "cell_type": "markdown",
   "metadata": {},
   "source": [
    "#### Convert categorical to numeric"
   ]
  },
  {
   "cell_type": "code",
   "execution_count": 48,
   "metadata": {
    "ExecuteTime": {
     "end_time": "2024-01-12T12:19:11.345505Z",
     "start_time": "2024-01-12T12:19:11.265638Z"
    }
   },
   "outputs": [],
   "source": [
    "# Use dummy variable encoding for \"Diet\" column\n",
    "\n",
    "diet = pd.get_dummies(diet, columns=['Diet'], drop_first=True)"
   ]
  },
  {
   "cell_type": "code",
   "execution_count": 49,
   "metadata": {
    "ExecuteTime": {
     "end_time": "2024-01-12T12:19:11.347355Z",
     "start_time": "2024-01-12T12:19:11.298717Z"
    }
   },
   "outputs": [
    {
     "data": {
      "text/plain": "         AuthorId  Age  Diet_Vegan  Diet_Vegetarian\n0       10000120E   46       False             True\n1        1000014D   18        True            False\n2        1000015A   58       False             True\n3        1000016E   32       False             True\n4        1000027E   61        True            False\n...           ...  ...         ...              ...\n271902    999917E   28       False             True\n271903    999936C   22       False            False\n271904     99993D   58       False             True\n271905     99994A   18       False             True\n271906    999991A   21       False             True\n\n[271906 rows x 4 columns]",
      "text/html": "<div>\n<style scoped>\n    .dataframe tbody tr th:only-of-type {\n        vertical-align: middle;\n    }\n\n    .dataframe tbody tr th {\n        vertical-align: top;\n    }\n\n    .dataframe thead th {\n        text-align: right;\n    }\n</style>\n<table border=\"1\" class=\"dataframe\">\n  <thead>\n    <tr style=\"text-align: right;\">\n      <th></th>\n      <th>AuthorId</th>\n      <th>Age</th>\n      <th>Diet_Vegan</th>\n      <th>Diet_Vegetarian</th>\n    </tr>\n  </thead>\n  <tbody>\n    <tr>\n      <th>0</th>\n      <td>10000120E</td>\n      <td>46</td>\n      <td>False</td>\n      <td>True</td>\n    </tr>\n    <tr>\n      <th>1</th>\n      <td>1000014D</td>\n      <td>18</td>\n      <td>True</td>\n      <td>False</td>\n    </tr>\n    <tr>\n      <th>2</th>\n      <td>1000015A</td>\n      <td>58</td>\n      <td>False</td>\n      <td>True</td>\n    </tr>\n    <tr>\n      <th>3</th>\n      <td>1000016E</td>\n      <td>32</td>\n      <td>False</td>\n      <td>True</td>\n    </tr>\n    <tr>\n      <th>4</th>\n      <td>1000027E</td>\n      <td>61</td>\n      <td>True</td>\n      <td>False</td>\n    </tr>\n    <tr>\n      <th>...</th>\n      <td>...</td>\n      <td>...</td>\n      <td>...</td>\n      <td>...</td>\n    </tr>\n    <tr>\n      <th>271902</th>\n      <td>999917E</td>\n      <td>28</td>\n      <td>False</td>\n      <td>True</td>\n    </tr>\n    <tr>\n      <th>271903</th>\n      <td>999936C</td>\n      <td>22</td>\n      <td>False</td>\n      <td>False</td>\n    </tr>\n    <tr>\n      <th>271904</th>\n      <td>99993D</td>\n      <td>58</td>\n      <td>False</td>\n      <td>True</td>\n    </tr>\n    <tr>\n      <th>271905</th>\n      <td>99994A</td>\n      <td>18</td>\n      <td>False</td>\n      <td>True</td>\n    </tr>\n    <tr>\n      <th>271906</th>\n      <td>999991A</td>\n      <td>21</td>\n      <td>False</td>\n      <td>True</td>\n    </tr>\n  </tbody>\n</table>\n<p>271906 rows × 4 columns</p>\n</div>"
     },
     "execution_count": 49,
     "metadata": {},
     "output_type": "execute_result"
    }
   ],
   "source": [
    "diet"
   ]
  },
  {
   "cell_type": "markdown",
   "metadata": {},
   "source": [
    "### recipes.csv"
   ]
  },
  {
   "cell_type": "markdown",
   "metadata": {},
   "source": [
    "#### Overview"
   ]
  },
  {
   "cell_type": "code",
   "execution_count": 50,
   "metadata": {
    "ExecuteTime": {
     "end_time": "2024-01-12T12:19:11.400428Z",
     "start_time": "2024-01-12T12:19:11.305218Z"
    }
   },
   "outputs": [
    {
     "name": "stdout",
     "output_type": "stream",
     "text": [
      "   RecipeId                                      Name  CookTime  PrepTime  \\\n",
      "0     73440              Bow Ties With Broccoli Pesto         0      1800   \n",
      "1    365718                       Cashew-chutney Rice      3600       600   \n",
      "2    141757  Copycat Taco Bell Nacho Fries BellGrande      3600      2700   \n",
      "3    280351  Slow Cooker Jalapeno Cheddar Cheese Soup     18000      1800   \n",
      "4    180505           Cool & Crisp Citrus Chiffon Pie      3600      1800   \n",
      "\n",
      "  RecipeCategory                         RecipeIngredientQuantities  \\\n",
      "0          Other  c(\"\\\"6\\\"\", \"\\\"2\\\"\", \"\\\"1 1/2\\\"\", \"\\\"1/4\\\"\", \"\\...   \n",
      "1          Other  c(\"\\\"1\\\"\", \"\\\"3/4\\\"\", \"\\\"6\\\"\", \"\\\"5\\\"\", \"\\\"2\\\"...   \n",
      "2          Other  c(\"\\\"3\\\"\", \"\\\"1/2\\\"\", \"\\\"1\\\"\", \"\\\"1\\\"\", \"\\\"3\\\"...   \n",
      "3          Other  c(\"\\\"2\\\"\", \"\\\"1\\\"\", \"\\\"2\\\"\", \"\\\"2\\\"\", \"\\\"1\\\"\",...   \n",
      "4          Other  c(\"\\\"1\\\"\", \"\\\"1/4\\\"\", \"\\\"1/2\\\"\", \"\\\"1/2\\\"\", \"\\...   \n",
      "\n",
      "                               RecipeIngredientParts  Calories  FatContent  \\\n",
      "0  c(\"\\\"hazelnuts\\\"\", \"\\\"broccoli florets\\\"\", \"\\\"...     241.3        10.1   \n",
      "1  c(\"\\\"celery\\\"\", \"\\\"onion\\\"\", \"\\\"butter\\\"\", \"\\\"...     370.8        17.5   \n",
      "2  c(\"\\\"Copycat Taco Bell Seasoned Beef\\\"\", \"\\\"ye...     377.6        20.9   \n",
      "3  c(\"\\\"unsalted butter\\\"\", \"\\\"yellow onion\\\"\", \"...     282.8        16.5   \n",
      "4  c(\"\\\"unflavored gelatin\\\"\", \"\\\"water\\\"\", \"\\\"su...     257.5         8.6   \n",
      "\n",
      "   SaturatedFatContent  CholesterolContent  SodiumContent  \\\n",
      "0                  1.2                 0.0           13.1   \n",
      "1                  7.2                22.9          553.3   \n",
      "2                 10.5                45.7         1501.8   \n",
      "3                 10.3                50.5          630.2   \n",
      "4                  2.4               110.7          160.9   \n",
      "\n",
      "   CarbohydrateContent  FiberContent  SugarContent  ProteinContent  \\\n",
      "0                 31.8           2.3           1.4             6.7   \n",
      "1                 44.3           1.6           2.2             9.4   \n",
      "2                 36.6           3.8           6.1            12.9   \n",
      "3                 22.8           2.3           2.7            11.7   \n",
      "4                 39.8           0.4          30.2             6.3   \n",
      "\n",
      "   RecipeServings RecipeYield  \n",
      "0             9.0         NaN  \n",
      "1             8.0         NaN  \n",
      "2             8.0         NaN  \n",
      "3             6.0         NaN  \n",
      "4             6.0         NaN  \n",
      "<class 'pandas.core.frame.DataFrame'>\n",
      "RangeIndex: 75604 entries, 0 to 75603\n",
      "Data columns (total 18 columns):\n",
      " #   Column                      Non-Null Count  Dtype  \n",
      "---  ------                      --------------  -----  \n",
      " 0   RecipeId                    75604 non-null  int64  \n",
      " 1   Name                        75604 non-null  object \n",
      " 2   CookTime                    75604 non-null  int64  \n",
      " 3   PrepTime                    75604 non-null  int64  \n",
      " 4   RecipeCategory              75604 non-null  object \n",
      " 5   RecipeIngredientQuantities  75604 non-null  object \n",
      " 6   RecipeIngredientParts       75604 non-null  object \n",
      " 7   Calories                    75604 non-null  float64\n",
      " 8   FatContent                  75604 non-null  float64\n",
      " 9   SaturatedFatContent         75604 non-null  float64\n",
      " 10  CholesterolContent          75604 non-null  float64\n",
      " 11  SodiumContent               75604 non-null  float64\n",
      " 12  CarbohydrateContent         75604 non-null  float64\n",
      " 13  FiberContent                75604 non-null  float64\n",
      " 14  SugarContent                75604 non-null  float64\n",
      " 15  ProteinContent              75604 non-null  float64\n",
      " 16  RecipeServings              48891 non-null  float64\n",
      " 17  RecipeYield                 25309 non-null  object \n",
      "dtypes: float64(10), int64(3), object(5)\n",
      "memory usage: 10.4+ MB\n",
      "None\n",
      "RecipeId                          0\n",
      "Name                              0\n",
      "CookTime                          0\n",
      "PrepTime                          0\n",
      "RecipeCategory                    0\n",
      "RecipeIngredientQuantities        0\n",
      "RecipeIngredientParts             0\n",
      "Calories                          0\n",
      "FatContent                        0\n",
      "SaturatedFatContent               0\n",
      "CholesterolContent                0\n",
      "SodiumContent                     0\n",
      "CarbohydrateContent               0\n",
      "FiberContent                      0\n",
      "SugarContent                      0\n",
      "ProteinContent                    0\n",
      "RecipeServings                26713\n",
      "RecipeYield                   50295\n",
      "dtype: int64\n"
     ]
    }
   ],
   "source": [
    "# Get overview of the recipes dataset\n",
    "\n",
    "print(recipes.head())\n",
    "print(recipes.info())\n",
    "print(recipes.isnull().sum())\n",
    "\n",
    "# --> Missing values in columns \"RecipeServings\" and \"RecipeYield\""
   ]
  },
  {
   "cell_type": "code",
   "execution_count": 51,
   "metadata": {
    "ExecuteTime": {
     "end_time": "2024-01-12T12:19:11.864463Z",
     "start_time": "2024-01-12T12:19:11.379305Z"
    }
   },
   "outputs": [
    {
     "name": "stdout",
     "output_type": "stream",
     "text": [
      "            RecipeId      CookTime      PrepTime       Calories    FatContent  \\\n",
      "count   75604.000000  7.560400e+04  7.560400e+04   75604.000000  75604.000000   \n",
      "mean   188832.754338  5.490711e+03  3.158604e+03     487.577339     24.781641   \n",
      "std    136977.010271  1.043468e+05  8.656302e+04    1496.382893    119.775608   \n",
      "min        40.000000  0.000000e+00  0.000000e+00       0.000000      0.000000   \n",
      "25%     70903.500000  6.000000e+02  6.000000e+02     174.700000      5.600000   \n",
      "50%    160469.000000  1.200000e+03  9.000000e+02     318.100000     13.700000   \n",
      "75%    289503.750000  2.700000e+03  1.200000e+03     530.400000     27.500000   \n",
      "max    541195.000000  1.036800e+07  1.728000e+07  350473.100000  30123.700000   \n",
      "\n",
      "       SaturatedFatContent  CholesterolContent  SodiumContent  \\\n",
      "count         75604.000000        75604.000000   75604.000000   \n",
      "mean              9.668810           87.716481     765.186763   \n",
      "std              52.503124          373.442901    3579.268318   \n",
      "min               0.000000            0.000000       0.000000   \n",
      "25%               1.500000            3.800000     123.400000   \n",
      "50%               4.700000           42.600000     356.650000   \n",
      "75%              10.800000          107.800000     797.000000   \n",
      "max           13269.400000        83404.500000  381983.000000   \n",
      "\n",
      "       CarbohydrateContent  FiberContent  SugarContent  ProteinContent  \\\n",
      "count         75604.000000  75604.000000  75604.000000    75604.000000   \n",
      "mean             49.286603      3.831779     22.073483       17.647143   \n",
      "std             100.522627      6.820646     71.591930       73.211036   \n",
      "min               0.000000      0.000000      0.000000        0.000000   \n",
      "25%              12.800000      0.800000      2.500000        3.500000   \n",
      "50%              28.200000      2.100000      6.400000        9.100000   \n",
      "75%              51.400000      4.500000     18.100000       25.100000   \n",
      "max            6699.700000    519.500000   4735.800000    18396.200000   \n",
      "\n",
      "       RecipeServings  \n",
      "count    48891.000000  \n",
      "mean         8.828455  \n",
      "std        148.633413  \n",
      "min          1.000000  \n",
      "25%          4.000000  \n",
      "50%          6.000000  \n",
      "75%          8.000000  \n",
      "max      32767.000000  \n",
      "RecipeCategory\n",
      "Other            56347\n",
      "Lunch             4887\n",
      "One dish meal     4590\n",
      "Bread             4246\n",
      "Breakfast         3033\n",
      "Beverages         2303\n",
      "Soup               198\n",
      "Name: count, dtype: int64\n",
      "Axes(0.125,0.11;0.775x0.77)\n"
     ]
    },
    {
     "data": {
      "text/plain": "<Figure size 640x480 with 1 Axes>",
      "image/png": "[encoded data removed]"
     },
     "metadata": {},
     "output_type": "display_data"
    }
   ],
   "source": [
    "# Descriptives for recipes dataset\n",
    "\n",
    "print(recipes.describe())\n",
    "\n",
    "# countplot for RecipeCategory\n",
    "print(recipes['RecipeCategory'].value_counts())\n",
    "\n",
    "print(sns.countplot(x='RecipeCategory', data=recipes));"
   ]
  },
  {
   "cell_type": "markdown",
   "metadata": {},
   "source": [
    "#### Handle name column"
   ]
  },
  {
   "cell_type": "code",
   "execution_count": 52,
   "metadata": {
    "ExecuteTime": {
     "end_time": "2024-01-12T12:19:11.936388Z",
     "start_time": "2024-01-12T12:19:11.859470Z"
    }
   },
   "outputs": [],
   "source": [
    "# Drop the column for now\n",
    "\n",
    "recipes = recipes.drop(columns=['Name'])\n",
    "\n",
    "# TO DO: Do we need the column?"
   ]
  },
  {
   "cell_type": "markdown",
   "metadata": {},
   "source": [
    "#### Handle CookTime and PrepTime column"
   ]
  },
  {
   "cell_type": "code",
   "execution_count": 53,
   "metadata": {
    "ExecuteTime": {
     "end_time": "2024-01-12T12:19:11.936814Z",
     "start_time": "2024-01-12T12:19:11.879049Z"
    }
   },
   "outputs": [],
   "source": [
    "# No missing values in both columns\n",
    "\n",
    "# TO DO: Handle outliers"
   ]
  },
  {
   "cell_type": "markdown",
   "metadata": {},
   "source": [
    "#### Handle RecipeCategory column"
   ]
  },
  {
   "cell_type": "code",
   "execution_count": 54,
   "metadata": {
    "ExecuteTime": {
     "end_time": "2024-01-12T12:19:11.938017Z",
     "start_time": "2024-01-12T12:19:11.887336Z"
    }
   },
   "outputs": [],
   "source": [
    "# Dummy encode RecipeCategory column\n",
    "\n",
    "recipes = pd.get_dummies(recipes, columns=['RecipeCategory'], drop_first=True)"
   ]
  },
  {
   "cell_type": "markdown",
   "metadata": {},
   "source": [
    "#### Handle RecipeIngredientQuantities and RecipeIngredientParts column"
   ]
  },
  {
   "cell_type": "code",
   "execution_count": 55,
   "metadata": {
    "ExecuteTime": {
     "end_time": "2024-01-12T12:19:11.939102Z",
     "start_time": "2024-01-12T12:19:11.917488Z"
    }
   },
   "outputs": [],
   "source": [
    "# Just drop the columns for now\n",
    "\n",
    "recipes = recipes.drop(['RecipeIngredientQuantities', 'RecipeIngredientParts'], axis=1)\n",
    "\n",
    "# TO DO: Handle them better"
   ]
  },
  {
   "cell_type": "markdown",
   "metadata": {},
   "source": [
    "#### Handle all nutrition fact columns"
   ]
  },
  {
   "cell_type": "code",
   "execution_count": 56,
   "metadata": {
    "ExecuteTime": {
     "end_time": "2024-01-12T12:19:11.939496Z",
     "start_time": "2024-01-12T12:19:11.931690Z"
    }
   },
   "outputs": [],
   "source": [
    "# TO DO: Handle potential outliers"
   ]
  },
  {
   "cell_type": "markdown",
   "metadata": {},
   "source": [
    "#### Handle RecipeServings and RecipeYield column"
   ]
  },
  {
   "cell_type": "code",
   "execution_count": 57,
   "metadata": {
    "ExecuteTime": {
     "end_time": "2024-01-12T12:19:11.957567Z",
     "start_time": "2024-01-12T12:19:11.937372Z"
    }
   },
   "outputs": [],
   "source": [
    "# Just drop the columns for now\n",
    "\n",
    "recipes = recipes.drop(['RecipeServings', 'RecipeYield'], axis=1)\n",
    "\n",
    "# TO DO: Handle missing values, outliers and weird values in RecipeYield"
   ]
  },
  {
   "cell_type": "code",
   "execution_count": 58,
   "metadata": {
    "ExecuteTime": {
     "end_time": "2024-01-12T12:19:12.014883Z",
     "start_time": "2024-01-12T12:19:11.945879Z"
    }
   },
   "outputs": [
    {
     "data": {
      "text/plain": "       RecipeId  CookTime  PrepTime  Calories  FatContent  \\\n0         73440         0      1800     241.3        10.1   \n1        365718      3600       600     370.8        17.5   \n2        141757      3600      2700     377.6        20.9   \n3        280351     18000      1800     282.8        16.5   \n4        180505      3600      1800     257.5         8.6   \n...         ...       ...       ...       ...         ...   \n75599    253577     43200     28800     121.5         0.5   \n75600    267827      3600      2700     652.2        25.8   \n75601    266983      1800       900     223.9         9.2   \n75602    253739       300       120    2229.8        80.3   \n75603     78171       960       600     654.1        13.8   \n\n       SaturatedFatContent  CholesterolContent  SodiumContent  \\\n0                      1.2                 0.0           13.1   \n1                      7.2                22.9          553.3   \n2                     10.5                45.7         1501.8   \n3                     10.3                50.5          630.2   \n4                      2.4               110.7          160.9   \n...                    ...                 ...            ...   \n75599                  0.1                 0.0         1175.1   \n75600                 10.7               197.9          435.5   \n75601                  3.6                78.3          725.9   \n75602                 69.3                 0.0          294.7   \n75603                  6.9                34.6         1114.0   \n\n       CarbohydrateContent  FiberContent  SugarContent  ProteinContent  \\\n0                     31.8           2.3           1.4             6.7   \n1                     44.3           1.6           2.2             9.4   \n2                     36.6           3.8           6.1            12.9   \n3                     22.8           2.3           2.7            11.7   \n4                     39.8           0.4          30.2             6.3   \n...                    ...           ...           ...             ...   \n75599                 22.2           7.8           0.6             7.9   \n75600                 51.9           7.5           7.2            50.1   \n75601                  7.3           1.1           1.7            26.7   \n75602                369.0          15.7         317.9            26.7   \n75603                 92.2           3.9           4.2            21.8   \n\n       RecipeCategory_Bread  RecipeCategory_Breakfast  RecipeCategory_Lunch  \\\n0                     False                     False                 False   \n1                     False                     False                 False   \n2                     False                     False                 False   \n3                     False                     False                 False   \n4                     False                     False                 False   \n...                     ...                       ...                   ...   \n75599                 False                     False                 False   \n75600                 False                     False                 False   \n75601                 False                     False                 False   \n75602                 False                     False                 False   \n75603                 False                     False                 False   \n\n       RecipeCategory_One dish meal  RecipeCategory_Other  RecipeCategory_Soup  \n0                             False                  True                False  \n1                             False                  True                False  \n2                             False                  True                False  \n3                             False                  True                False  \n4                             False                  True                False  \n...                             ...                   ...                  ...  \n75599                         False                  True                False  \n75600                         False                  True                False  \n75601                         False                  True                False  \n75602                         False                  True                False  \n75603                         False                  True                False  \n\n[75604 rows x 18 columns]",
      "text/html": "<div>\n<style scoped>\n    .dataframe tbody tr th:only-of-type {\n        vertical-align: middle;\n    }\n\n    .dataframe tbody tr th {\n        vertical-align: top;\n    }\n\n    .dataframe thead th {\n        text-align: right;\n    }\n</style>\n<table border=\"1\" class=\"dataframe\">\n  <thead>\n    <tr style=\"text-align: right;\">\n      <th></th>\n      <th>RecipeId</th>\n      <th>CookTime</th>\n      <th>PrepTime</th>\n      <th>Calories</th>\n      <th>FatContent</th>\n      <th>SaturatedFatContent</th>\n      <th>CholesterolContent</th>\n      <th>SodiumContent</th>\n      <th>CarbohydrateContent</th>\n      <th>FiberContent</th>\n      <th>SugarContent</th>\n      <th>ProteinContent</th>\n      <th>RecipeCategory_Bread</th>\n      <th>RecipeCategory_Breakfast</th>\n      <th>RecipeCategory_Lunch</th>\n      <th>RecipeCategory_One dish meal</th>\n      <th>RecipeCategory_Other</th>\n      <th>RecipeCategory_Soup</th>\n    </tr>\n  </thead>\n  <tbody>\n    <tr>\n      <th>0</th>\n      <td>73440</td>\n      <td>0</td>\n      <td>1800</td>\n      <td>241.3</td>\n      <td>10.1</td>\n      <td>1.2</td>\n      <td>0.0</td>\n      <td>13.1</td>\n      <td>31.8</td>\n      <td>2.3</td>\n      <td>1.4</td>\n      <td>6.7</td>\n      <td>False</td>\n      <td>False</td>\n      <td>False</td>\n      <td>False</td>\n      <td>True</td>\n      <td>False</td>\n    </tr>\n    <tr>\n      <th>1</th>\n      <td>365718</td>\n      <td>3600</td>\n      <td>600</td>\n      <td>370.8</td>\n      <td>17.5</td>\n      <td>7.2</td>\n      <td>22.9</td>\n      <td>553.3</td>\n      <td>44.3</td>\n      <td>1.6</td>\n      <td>2.2</td>\n      <td>9.4</td>\n      <td>False</td>\n      <td>False</td>\n      <td>False</td>\n      <td>False</td>\n      <td>True</td>\n      <td>False</td>\n    </tr>\n    <tr>\n      <th>2</th>\n      <td>141757</td>\n      <td>3600</td>\n      <td>2700</td>\n      <td>377.6</td>\n      <td>20.9</td>\n      <td>10.5</td>\n      <td>45.7</td>\n      <td>1501.8</td>\n      <td>36.6</td>\n      <td>3.8</td>\n      <td>6.1</td>\n      <td>12.9</td>\n      <td>False</td>\n      <td>False</td>\n      <td>False</td>\n      <td>False</td>\n      <td>True</td>\n      <td>False</td>\n    </tr>\n    <tr>\n      <th>3</th>\n      <td>280351</td>\n      <td>18000</td>\n      <td>1800</td>\n      <td>282.8</td>\n      <td>16.5</td>\n      <td>10.3</td>\n      <td>50.5</td>\n      <td>630.2</td>\n      <td>22.8</td>\n      <td>2.3</td>\n      <td>2.7</td>\n      <td>11.7</td>\n      <td>False</td>\n      <td>False</td>\n      <td>False</td>\n      <td>False</td>\n      <td>True</td>\n      <td>False</td>\n    </tr>\n    <tr>\n      <th>4</th>\n      <td>180505</td>\n      <td>3600</td>\n      <td>1800</td>\n      <td>257.5</td>\n      <td>8.6</td>\n      <td>2.4</td>\n      <td>110.7</td>\n      <td>160.9</td>\n      <td>39.8</td>\n      <td>0.4</td>\n      <td>30.2</td>\n      <td>6.3</td>\n      <td>False</td>\n      <td>False</td>\n      <td>False</td>\n      <td>False</td>\n      <td>True</td>\n      <td>False</td>\n    </tr>\n    <tr>\n      <th>...</th>\n      <td>...</td>\n      <td>...</td>\n      <td>...</td>\n      <td>...</td>\n      <td>...</td>\n      <td>...</td>\n      <td>...</td>\n      <td>...</td>\n      <td>...</td>\n      <td>...</td>\n      <td>...</td>\n      <td>...</td>\n      <td>...</td>\n      <td>...</td>\n      <td>...</td>\n      <td>...</td>\n      <td>...</td>\n      <td>...</td>\n    </tr>\n    <tr>\n      <th>75599</th>\n      <td>253577</td>\n      <td>43200</td>\n      <td>28800</td>\n      <td>121.5</td>\n      <td>0.5</td>\n      <td>0.1</td>\n      <td>0.0</td>\n      <td>1175.1</td>\n      <td>22.2</td>\n      <td>7.8</td>\n      <td>0.6</td>\n      <td>7.9</td>\n      <td>False</td>\n      <td>False</td>\n      <td>False</td>\n      <td>False</td>\n      <td>True</td>\n      <td>False</td>\n    </tr>\n    <tr>\n      <th>75600</th>\n      <td>267827</td>\n      <td>3600</td>\n      <td>2700</td>\n      <td>652.2</td>\n      <td>25.8</td>\n      <td>10.7</td>\n      <td>197.9</td>\n      <td>435.5</td>\n      <td>51.9</td>\n      <td>7.5</td>\n      <td>7.2</td>\n      <td>50.1</td>\n      <td>False</td>\n      <td>False</td>\n      <td>False</td>\n      <td>False</td>\n      <td>True</td>\n      <td>False</td>\n    </tr>\n    <tr>\n      <th>75601</th>\n      <td>266983</td>\n      <td>1800</td>\n      <td>900</td>\n      <td>223.9</td>\n      <td>9.2</td>\n      <td>3.6</td>\n      <td>78.3</td>\n      <td>725.9</td>\n      <td>7.3</td>\n      <td>1.1</td>\n      <td>1.7</td>\n      <td>26.7</td>\n      <td>False</td>\n      <td>False</td>\n      <td>False</td>\n      <td>False</td>\n      <td>True</td>\n      <td>False</td>\n    </tr>\n    <tr>\n      <th>75602</th>\n      <td>253739</td>\n      <td>300</td>\n      <td>120</td>\n      <td>2229.8</td>\n      <td>80.3</td>\n      <td>69.3</td>\n      <td>0.0</td>\n      <td>294.7</td>\n      <td>369.0</td>\n      <td>15.7</td>\n      <td>317.9</td>\n      <td>26.7</td>\n      <td>False</td>\n      <td>False</td>\n      <td>False</td>\n      <td>False</td>\n      <td>True</td>\n      <td>False</td>\n    </tr>\n    <tr>\n      <th>75603</th>\n      <td>78171</td>\n      <td>960</td>\n      <td>600</td>\n      <td>654.1</td>\n      <td>13.8</td>\n      <td>6.9</td>\n      <td>34.6</td>\n      <td>1114.0</td>\n      <td>92.2</td>\n      <td>3.9</td>\n      <td>4.2</td>\n      <td>21.8</td>\n      <td>False</td>\n      <td>False</td>\n      <td>False</td>\n      <td>False</td>\n      <td>True</td>\n      <td>False</td>\n    </tr>\n  </tbody>\n</table>\n<p>75604 rows × 18 columns</p>\n</div>"
     },
     "execution_count": 58,
     "metadata": {},
     "output_type": "execute_result"
    }
   ],
   "source": [
    "recipes"
   ]
  },
  {
   "cell_type": "markdown",
   "metadata": {},
   "source": [
    "### reviews.csv"
   ]
  },
  {
   "cell_type": "markdown",
   "metadata": {},
   "source": [
    "#### Overview"
   ]
  },
  {
   "cell_type": "code",
   "execution_count": 59,
   "metadata": {
    "ExecuteTime": {
     "end_time": "2024-01-12T12:19:12.016004Z",
     "start_time": "2024-01-12T12:19:11.977723Z"
    }
   },
   "outputs": [
    {
     "name": "stdout",
     "output_type": "stream",
     "text": [
      "      AuthorId  RecipeId  Rating Like  TestSetId\n",
      "0     2492191A     33671     2.0  NaN        1.0\n",
      "1  2002019979A     92647     2.0  NaN        2.0\n",
      "2      408594E    161770     NaN  NaN        3.0\n",
      "3  2001625557E    108231     2.0  NaN        4.0\n",
      "4  2001427116E     71109     NaN  NaN        5.0\n",
      "<class 'pandas.core.frame.DataFrame'>\n",
      "RangeIndex: 140195 entries, 0 to 140194\n",
      "Data columns (total 5 columns):\n",
      " #   Column     Non-Null Count   Dtype  \n",
      "---  ------     --------------   -----  \n",
      " 0   AuthorId   140195 non-null  object \n",
      " 1   RecipeId   140195 non-null  int64  \n",
      " 2   Rating     77108 non-null   float64\n",
      " 3   Like       97381 non-null   object \n",
      " 4   TestSetId  42814 non-null   float64\n",
      "dtypes: float64(2), int64(1), object(2)\n",
      "memory usage: 5.3+ MB\n",
      "None\n",
      "AuthorId         0\n",
      "RecipeId         0\n",
      "Rating       63087\n",
      "Like         42814\n",
      "TestSetId    97381\n",
      "dtype: int64\n"
     ]
    }
   ],
   "source": [
    "# Get overview of the reviews dataset\n",
    "\n",
    "print(reviews.head())\n",
    "print(reviews.info())\n",
    "print(reviews.isnull().sum())\n",
    "\n",
    "# --> Missing values in columns \"Rating\", \"Like\" and \"TestSetId\""
   ]
  },
  {
   "cell_type": "code",
   "execution_count": 60,
   "metadata": {
    "ExecuteTime": {
     "end_time": "2024-01-12T12:19:12.134937Z",
     "start_time": "2024-01-12T12:19:12.011643Z"
    }
   },
   "outputs": [
    {
     "name": "stdout",
     "output_type": "stream",
     "text": [
      "            RecipeId   Rating     TestSetId\n",
      "count  140195.000000  77108.0  42814.000000\n",
      "mean   152770.642477      2.0  21407.500000\n",
      "std    130325.801041      0.0  12359.481549\n",
      "min        40.000000      2.0      1.000000\n",
      "25%     47111.000000      2.0  10704.250000\n",
      "50%    109423.000000      2.0  21407.500000\n",
      "75%    232075.000000      2.0  32110.750000\n",
      "max    541195.000000      2.0  42814.000000\n",
      "Rating\n",
      "2.0    77108\n",
      "Name: count, dtype: int64\n",
      "Like\n",
      "False    84503\n",
      "True     12878\n",
      "Name: count, dtype: int64\n"
     ]
    }
   ],
   "source": [
    "# Descriptives for reviews dataset\n",
    "\n",
    "print(reviews.describe())\n",
    "\n",
    "print(reviews['Rating'].value_counts());\n",
    "\n",
    "print(reviews['Like'].value_counts()); # --> make true = 1 and false = 0"
   ]
  },
  {
   "cell_type": "markdown",
   "metadata": {},
   "source": [
    "#### Split datasets in prediction and use"
   ]
  },
  {
   "cell_type": "code",
   "execution_count": 61,
   "metadata": {
    "ExecuteTime": {
     "end_time": "2024-01-12T12:19:12.135989Z",
     "start_time": "2024-01-12T12:19:12.051164Z"
    }
   },
   "outputs": [],
   "source": [
    "# Split data into submission that needs to be predicted and the rest we can use\n",
    "\n",
    "# 1. Get the rows without missing values in \"TestSetId\" column \n",
    "# and missing values in \"Like\" column\n",
    "\n",
    "reviews_to_predict = reviews[reviews['TestSetId'].notnull() & reviews['Like'].isnull()]\n",
    "\n",
    "# 2. Get the rows with missing values in \"TestSetId\" column\n",
    "\n",
    "reviews_to_use = reviews[reviews['TestSetId'].isnull()]"
   ]
  },
  {
   "cell_type": "code",
   "execution_count": 62,
   "metadata": {
    "ExecuteTime": {
     "end_time": "2024-01-12T12:19:12.170132Z",
     "start_time": "2024-01-12T12:19:12.082397Z"
    }
   },
   "outputs": [
    {
     "data": {
      "text/plain": "        AuthorId  RecipeId  Rating   Like  TestSetId\n42814   1000036C    320576     NaN  False        NaN\n42815   1000216B    189335     NaN  False        NaN\n42816   1000221A    133043     2.0  False        NaN\n42817   1000221A     90537     2.0  False        NaN\n42818   1000221A    334314     2.0  False        NaN\n...          ...       ...     ...    ...        ...\n140190   999595E    338070     2.0  False        NaN\n140191   999774A     29002     2.0  False        NaN\n140192   999774A    159252     NaN  False        NaN\n140193   999774A      1171     2.0   True        NaN\n140194   999917E    169413     2.0  False        NaN\n\n[97381 rows x 5 columns]",
      "text/html": "<div>\n<style scoped>\n    .dataframe tbody tr th:only-of-type {\n        vertical-align: middle;\n    }\n\n    .dataframe tbody tr th {\n        vertical-align: top;\n    }\n\n    .dataframe thead th {\n        text-align: right;\n    }\n</style>\n<table border=\"1\" class=\"dataframe\">\n  <thead>\n    <tr style=\"text-align: right;\">\n      <th></th>\n      <th>AuthorId</th>\n      <th>RecipeId</th>\n      <th>Rating</th>\n      <th>Like</th>\n      <th>TestSetId</th>\n    </tr>\n  </thead>\n  <tbody>\n    <tr>\n      <th>42814</th>\n      <td>1000036C</td>\n      <td>320576</td>\n      <td>NaN</td>\n      <td>False</td>\n      <td>NaN</td>\n    </tr>\n    <tr>\n      <th>42815</th>\n      <td>1000216B</td>\n      <td>189335</td>\n      <td>NaN</td>\n      <td>False</td>\n      <td>NaN</td>\n    </tr>\n    <tr>\n      <th>42816</th>\n      <td>1000221A</td>\n      <td>133043</td>\n      <td>2.0</td>\n      <td>False</td>\n      <td>NaN</td>\n    </tr>\n    <tr>\n      <th>42817</th>\n      <td>1000221A</td>\n      <td>90537</td>\n      <td>2.0</td>\n      <td>False</td>\n      <td>NaN</td>\n    </tr>\n    <tr>\n      <th>42818</th>\n      <td>1000221A</td>\n      <td>334314</td>\n      <td>2.0</td>\n      <td>False</td>\n      <td>NaN</td>\n    </tr>\n    <tr>\n      <th>...</th>\n      <td>...</td>\n      <td>...</td>\n      <td>...</td>\n      <td>...</td>\n      <td>...</td>\n    </tr>\n    <tr>\n      <th>140190</th>\n      <td>999595E</td>\n      <td>338070</td>\n      <td>2.0</td>\n      <td>False</td>\n      <td>NaN</td>\n    </tr>\n    <tr>\n      <th>140191</th>\n      <td>999774A</td>\n      <td>29002</td>\n      <td>2.0</td>\n      <td>False</td>\n      <td>NaN</td>\n    </tr>\n    <tr>\n      <th>140192</th>\n      <td>999774A</td>\n      <td>159252</td>\n      <td>NaN</td>\n      <td>False</td>\n      <td>NaN</td>\n    </tr>\n    <tr>\n      <th>140193</th>\n      <td>999774A</td>\n      <td>1171</td>\n      <td>2.0</td>\n      <td>True</td>\n      <td>NaN</td>\n    </tr>\n    <tr>\n      <th>140194</th>\n      <td>999917E</td>\n      <td>169413</td>\n      <td>2.0</td>\n      <td>False</td>\n      <td>NaN</td>\n    </tr>\n  </tbody>\n</table>\n<p>97381 rows × 5 columns</p>\n</div>"
     },
     "execution_count": 62,
     "metadata": {},
     "output_type": "execute_result"
    }
   ],
   "source": [
    "reviews_to_use"
   ]
  },
  {
   "cell_type": "markdown",
   "metadata": {},
   "source": [
    "#### Remove unneccesary columns"
   ]
  },
  {
   "cell_type": "code",
   "execution_count": 63,
   "metadata": {
    "ExecuteTime": {
     "end_time": "2024-01-12T12:19:12.172008Z",
     "start_time": "2024-01-12T12:19:12.088471Z"
    }
   },
   "outputs": [],
   "source": [
    "# Remove column \"Rating\" since it has either no value or only 2.0 -> no information\n",
    "# Remove column \"TestSetId\" since only NA values\n",
    "\n",
    "reviews_to_use = reviews_to_use.drop(['Rating', 'TestSetId'], axis=1)"
   ]
  },
  {
   "cell_type": "markdown",
   "metadata": {},
   "source": [
    "#### Change type of column Like to binary"
   ]
  },
  {
   "cell_type": "code",
   "execution_count": 64,
   "metadata": {
    "ExecuteTime": {
     "end_time": "2024-01-12T12:19:12.172754Z",
     "start_time": "2024-01-12T12:19:12.101536Z"
    }
   },
   "outputs": [],
   "source": [
    "# make column \"Like\" binary, true = 1 and false = 0\n",
    "\n",
    "reviews_to_use['Like'] = reviews_to_use['Like'].astype('int')"
   ]
  },
  {
   "cell_type": "code",
   "execution_count": 65,
   "metadata": {
    "ExecuteTime": {
     "end_time": "2024-01-12T12:19:12.398920Z",
     "start_time": "2024-01-12T12:19:12.112995Z"
    }
   },
   "outputs": [
    {
     "data": {
      "text/plain": "        AuthorId  RecipeId  Like\n42814   1000036C    320576     0\n42815   1000216B    189335     0\n42816   1000221A    133043     0\n42817   1000221A     90537     0\n42818   1000221A    334314     0\n...          ...       ...   ...\n140190   999595E    338070     0\n140191   999774A     29002     0\n140192   999774A    159252     0\n140193   999774A      1171     1\n140194   999917E    169413     0\n\n[97381 rows x 3 columns]",
      "text/html": "<div>\n<style scoped>\n    .dataframe tbody tr th:only-of-type {\n        vertical-align: middle;\n    }\n\n    .dataframe tbody tr th {\n        vertical-align: top;\n    }\n\n    .dataframe thead th {\n        text-align: right;\n    }\n</style>\n<table border=\"1\" class=\"dataframe\">\n  <thead>\n    <tr style=\"text-align: right;\">\n      <th></th>\n      <th>AuthorId</th>\n      <th>RecipeId</th>\n      <th>Like</th>\n    </tr>\n  </thead>\n  <tbody>\n    <tr>\n      <th>42814</th>\n      <td>1000036C</td>\n      <td>320576</td>\n      <td>0</td>\n    </tr>\n    <tr>\n      <th>42815</th>\n      <td>1000216B</td>\n      <td>189335</td>\n      <td>0</td>\n    </tr>\n    <tr>\n      <th>42816</th>\n      <td>1000221A</td>\n      <td>133043</td>\n      <td>0</td>\n    </tr>\n    <tr>\n      <th>42817</th>\n      <td>1000221A</td>\n      <td>90537</td>\n      <td>0</td>\n    </tr>\n    <tr>\n      <th>42818</th>\n      <td>1000221A</td>\n      <td>334314</td>\n      <td>0</td>\n    </tr>\n    <tr>\n      <th>...</th>\n      <td>...</td>\n      <td>...</td>\n      <td>...</td>\n    </tr>\n    <tr>\n      <th>140190</th>\n      <td>999595E</td>\n      <td>338070</td>\n      <td>0</td>\n    </tr>\n    <tr>\n      <th>140191</th>\n      <td>999774A</td>\n      <td>29002</td>\n      <td>0</td>\n    </tr>\n    <tr>\n      <th>140192</th>\n      <td>999774A</td>\n      <td>159252</td>\n      <td>0</td>\n    </tr>\n    <tr>\n      <th>140193</th>\n      <td>999774A</td>\n      <td>1171</td>\n      <td>1</td>\n    </tr>\n    <tr>\n      <th>140194</th>\n      <td>999917E</td>\n      <td>169413</td>\n      <td>0</td>\n    </tr>\n  </tbody>\n</table>\n<p>97381 rows × 3 columns</p>\n</div>"
     },
     "execution_count": 65,
     "metadata": {},
     "output_type": "execute_result"
    }
   ],
   "source": [
    "reviews_to_use"
   ]
  },
  {
   "cell_type": "markdown",
   "metadata": {},
   "source": [
    "### requests.csv"
   ]
  },
  {
   "cell_type": "markdown",
   "metadata": {},
   "source": [
    "#### Overview"
   ]
  },
  {
   "cell_type": "code",
   "execution_count": 66,
   "metadata": {
    "ExecuteTime": {
     "end_time": "2024-01-12T12:19:12.456932Z",
     "start_time": "2024-01-12T12:19:12.123156Z"
    }
   },
   "outputs": [
    {
     "name": "stdout",
     "output_type": "stream",
     "text": [
      "      AuthorId  RecipeId          Time  HighCalories  HighProtein  LowFat  \\\n",
      "0  2001012259B     73440   1799.950949           0.0  Indifferent       0   \n",
      "1      437641B    365718   4201.820980           0.0          Yes       0   \n",
      "2  1803340263D    141757   6299.861496           0.0  Indifferent       1   \n",
      "3      854048B    280351  19801.365796           0.0          Yes       1   \n",
      "4     2277685E    180505   5400.093457           0.0  Indifferent       0   \n",
      "\n",
      "      LowSugar  HighFiber  \n",
      "0            0          0  \n",
      "1  Indifferent          1  \n",
      "2  Indifferent          0  \n",
      "3            0          1  \n",
      "4            0          0  \n",
      "<class 'pandas.core.frame.DataFrame'>\n",
      "RangeIndex: 140195 entries, 0 to 140194\n",
      "Data columns (total 8 columns):\n",
      " #   Column        Non-Null Count   Dtype  \n",
      "---  ------        --------------   -----  \n",
      " 0   AuthorId      140195 non-null  object \n",
      " 1   RecipeId      140195 non-null  int64  \n",
      " 2   Time          140195 non-null  float64\n",
      " 3   HighCalories  140195 non-null  float64\n",
      " 4   HighProtein   140195 non-null  object \n",
      " 5   LowFat        140195 non-null  int64  \n",
      " 6   LowSugar      140195 non-null  object \n",
      " 7   HighFiber     140195 non-null  int64  \n",
      "dtypes: float64(2), int64(3), object(3)\n",
      "memory usage: 8.6+ MB\n",
      "None\n",
      "AuthorId        0\n",
      "RecipeId        0\n",
      "Time            0\n",
      "HighCalories    0\n",
      "HighProtein     0\n",
      "LowFat          0\n",
      "LowSugar        0\n",
      "HighFiber       0\n",
      "dtype: int64\n"
     ]
    }
   ],
   "source": [
    "# Get overview of the request dataset\n",
    "\n",
    "print(requests.head())\n",
    "print(requests.info())\n",
    "print(requests.isnull().sum())\n",
    "\n",
    "# --> No missing values"
   ]
  },
  {
   "cell_type": "markdown",
   "metadata": {},
   "source": [
    "#### Change types of columns with flags"
   ]
  },
  {
   "cell_type": "code",
   "execution_count": 67,
   "metadata": {
    "ExecuteTime": {
     "end_time": "2024-01-12T12:19:12.468385Z",
     "start_time": "2024-01-12T12:19:12.187511Z"
    }
   },
   "outputs": [],
   "source": [
    "requests['HighCalories'] = requests['HighCalories'].astype('int')\n",
    "\n",
    "# In \"HighProtein\", encode yes = 1 and indifferent = 0\n",
    "requests['HighProtein'] = requests['HighProtein'].map({'Yes': 1, 'Indifferent': 0})\n",
    "\n",
    "# In \"LowSugar\", encode no = 1 and indifferent = 0\n",
    "requests['LowSugar'] = requests['LowSugar'].map({'0': 1, 'Indifferent': 0})"
   ]
  },
  {
   "cell_type": "markdown",
   "metadata": {},
   "source": [
    "#### Round time column"
   ]
  },
  {
   "cell_type": "code",
   "execution_count": 68,
   "metadata": {
    "ExecuteTime": {
     "end_time": "2024-01-12T12:19:12.468812Z",
     "start_time": "2024-01-12T12:19:12.235763Z"
    }
   },
   "outputs": [],
   "source": [
    "# Round time column to integer values and cast to int\n",
    "\n",
    "requests['Time'] = requests['Time'].round().astype('int')"
   ]
  },
  {
   "cell_type": "markdown",
   "metadata": {},
   "source": [
    "### Merge datasets"
   ]
  },
  {
   "cell_type": "code",
   "execution_count": 69,
   "metadata": {
    "ExecuteTime": {
     "end_time": "2024-01-12T12:19:12.469061Z",
     "start_time": "2024-01-12T12:19:12.255910Z"
    }
   },
   "outputs": [],
   "source": [
    "# show the differences in columns \"AuthorId / RecipeId\" in reviews and requests dataset\n",
    "\n",
    "#print(set(requests['AuthorId']) - set(reviews_to_use['AuthorId']))\n",
    "#print(set(requests['RecipeId']) - set(reviews_to_use['RecipeId']))\n",
    "\n",
    "# -> request has the exact same keys as reviews \n",
    "# -> merge on reviews_to_use where matches occur"
   ]
  },
  {
   "cell_type": "markdown",
   "metadata": {},
   "source": [
    "#### Join requests and reviews_to_use"
   ]
  },
  {
   "cell_type": "code",
   "execution_count": 70,
   "metadata": {
    "ExecuteTime": {
     "end_time": "2024-01-12T12:19:12.570649Z",
     "start_time": "2024-01-12T12:19:12.267394Z"
    }
   },
   "outputs": [],
   "source": [
    "# Join requests and reviews_to_use on AuthorId and RecipeId\n",
    "\n",
    "requests_reviews = pd.merge(requests, reviews_to_use, on=['AuthorId', 'RecipeId'])"
   ]
  },
  {
   "cell_type": "markdown",
   "metadata": {},
   "source": [
    "#### Join requests_reviews and diet"
   ]
  },
  {
   "cell_type": "code",
   "execution_count": 71,
   "metadata": {
    "ExecuteTime": {
     "end_time": "2024-01-12T12:19:12.685968Z",
     "start_time": "2024-01-12T12:19:12.415085Z"
    }
   },
   "outputs": [],
   "source": [
    "# Join requests_reviews and diet on AuthorId\n",
    "\n",
    "requests_reviews_diet = pd.merge(requests_reviews, diet, on='AuthorId')"
   ]
  },
  {
   "cell_type": "markdown",
   "metadata": {},
   "source": [
    "#### Join requests_reviews_diet and recipes"
   ]
  },
  {
   "cell_type": "code",
   "execution_count": 72,
   "metadata": {
    "ExecuteTime": {
     "end_time": "2024-01-12T12:19:12.735884Z",
     "start_time": "2024-01-12T12:19:12.588156Z"
    }
   },
   "outputs": [],
   "source": [
    "# Join requests_reviews_diet and recipes on RecipeId\n",
    "\n",
    "requests_reviews_diet_recipes = pd.merge(requests_reviews_diet, recipes, on='RecipeId')"
   ]
  },
  {
   "cell_type": "code",
   "execution_count": 73,
   "metadata": {
    "ExecuteTime": {
     "end_time": "2024-01-12T12:19:12.887611Z",
     "start_time": "2024-01-12T12:19:12.658724Z"
    }
   },
   "outputs": [
    {
     "data": {
      "text/plain": "          AuthorId  RecipeId   Time  HighCalories  HighProtein  LowFat  \\\n0      2001012259B     73440   1800             0            0       0   \n1          514750D     73440   1801             0            0       0   \n2         1073154D     73440   1800             0            0       1   \n3         2094148C     73440   1800             1            1       1   \n4      2002219246D     73440   1799             0            0       1   \n...            ...       ...    ...           ...          ...     ...   \n97376    45380955C    474766   3900             0            0       0   \n97377     1677720D    253577  71999             0            0       1   \n97378  2000154789A    266983   2701             0            1       0   \n97379      163793B     78171   1561             0            0       0   \n97380       33888B    333262   1502             1            0       1   \n\n       LowSugar  HighFiber  Like  Age  ...  CarbohydrateContent  FiberContent  \\\n0             1          0     0   46  ...                 31.8           2.3   \n1             0          1     0   65  ...                 31.8           2.3   \n2             1          1     0   59  ...                 31.8           2.3   \n3             0          0     0   35  ...                 31.8           2.3   \n4             1          1     0   40  ...                 31.8           2.3   \n...         ...        ...   ...  ...  ...                  ...           ...   \n97376         1          1     1   73  ...                 43.2           5.2   \n97377         0          1     1   27  ...                 22.2           7.8   \n97378         1          1     1   78  ...                  7.3           1.1   \n97379         1          1     1   50  ...                 92.2           3.9   \n97380         1          0     1   55  ...                 34.9           1.7   \n\n       SugarContent  ProteinContent  RecipeCategory_Bread  \\\n0               1.4             6.7                 False   \n1               1.4             6.7                 False   \n2               1.4             6.7                 False   \n3               1.4             6.7                 False   \n4               1.4             6.7                 False   \n...             ...             ...                   ...   \n97376          29.1             7.3                 False   \n97377           0.6             7.9                 False   \n97378           1.7            26.7                 False   \n97379           4.2            21.8                 False   \n97380          26.4             1.6                 False   \n\n       RecipeCategory_Breakfast  RecipeCategory_Lunch  \\\n0                         False                 False   \n1                         False                 False   \n2                         False                 False   \n3                         False                 False   \n4                         False                 False   \n...                         ...                   ...   \n97376                     False                 False   \n97377                     False                 False   \n97378                     False                 False   \n97379                     False                 False   \n97380                     False                 False   \n\n       RecipeCategory_One dish meal  RecipeCategory_Other  RecipeCategory_Soup  \n0                             False                  True                False  \n1                             False                  True                False  \n2                             False                  True                False  \n3                             False                  True                False  \n4                             False                  True                False  \n...                             ...                   ...                  ...  \n97376                         False                  True                False  \n97377                         False                  True                False  \n97378                         False                  True                False  \n97379                         False                  True                False  \n97380                         False                  True                False  \n\n[97381 rows x 29 columns]",
      "text/html": "<div>\n<style scoped>\n    .dataframe tbody tr th:only-of-type {\n        vertical-align: middle;\n    }\n\n    .dataframe tbody tr th {\n        vertical-align: top;\n    }\n\n    .dataframe thead th {\n        text-align: right;\n    }\n</style>\n<table border=\"1\" class=\"dataframe\">\n  <thead>\n    <tr style=\"text-align: right;\">\n      <th></th>\n      <th>AuthorId</th>\n      <th>RecipeId</th>\n      <th>Time</th>\n      <th>HighCalories</th>\n      <th>HighProtein</th>\n      <th>LowFat</th>\n      <th>LowSugar</th>\n      <th>HighFiber</th>\n      <th>Like</th>\n      <th>Age</th>\n      <th>...</th>\n      <th>CarbohydrateContent</th>\n      <th>FiberContent</th>\n      <th>SugarContent</th>\n      <th>ProteinContent</th>\n      <th>RecipeCategory_Bread</th>\n      <th>RecipeCategory_Breakfast</th>\n      <th>RecipeCategory_Lunch</th>\n      <th>RecipeCategory_One dish meal</th>\n      <th>RecipeCategory_Other</th>\n      <th>RecipeCategory_Soup</th>\n    </tr>\n  </thead>\n  <tbody>\n    <tr>\n      <th>0</th>\n      <td>2001012259B</td>\n      <td>73440</td>\n      <td>1800</td>\n      <td>0</td>\n      <td>0</td>\n      <td>0</td>\n      <td>1</td>\n      <td>0</td>\n      <td>0</td>\n      <td>46</td>\n      <td>...</td>\n      <td>31.8</td>\n      <td>2.3</td>\n      <td>1.4</td>\n      <td>6.7</td>\n      <td>False</td>\n      <td>False</td>\n      <td>False</td>\n      <td>False</td>\n      <td>True</td>\n      <td>False</td>\n    </tr>\n    <tr>\n      <th>1</th>\n      <td>514750D</td>\n      <td>73440</td>\n      <td>1801</td>\n      <td>0</td>\n      <td>0</td>\n      <td>0</td>\n      <td>0</td>\n      <td>1</td>\n      <td>0</td>\n      <td>65</td>\n      <td>...</td>\n      <td>31.8</td>\n      <td>2.3</td>\n      <td>1.4</td>\n      <td>6.7</td>\n      <td>False</td>\n      <td>False</td>\n      <td>False</td>\n      <td>False</td>\n      <td>True</td>\n      <td>False</td>\n    </tr>\n    <tr>\n      <th>2</th>\n      <td>1073154D</td>\n      <td>73440</td>\n      <td>1800</td>\n      <td>0</td>\n      <td>0</td>\n      <td>1</td>\n      <td>1</td>\n      <td>1</td>\n      <td>0</td>\n      <td>59</td>\n      <td>...</td>\n      <td>31.8</td>\n      <td>2.3</td>\n      <td>1.4</td>\n      <td>6.7</td>\n      <td>False</td>\n      <td>False</td>\n      <td>False</td>\n      <td>False</td>\n      <td>True</td>\n      <td>False</td>\n    </tr>\n    <tr>\n      <th>3</th>\n      <td>2094148C</td>\n      <td>73440</td>\n      <td>1800</td>\n      <td>1</td>\n      <td>1</td>\n      <td>1</td>\n      <td>0</td>\n      <td>0</td>\n      <td>0</td>\n      <td>35</td>\n      <td>...</td>\n      <td>31.8</td>\n      <td>2.3</td>\n      <td>1.4</td>\n      <td>6.7</td>\n      <td>False</td>\n      <td>False</td>\n      <td>False</td>\n      <td>False</td>\n      <td>True</td>\n      <td>False</td>\n    </tr>\n    <tr>\n      <th>4</th>\n      <td>2002219246D</td>\n      <td>73440</td>\n      <td>1799</td>\n      <td>0</td>\n      <td>0</td>\n      <td>1</td>\n      <td>1</td>\n      <td>1</td>\n      <td>0</td>\n      <td>40</td>\n      <td>...</td>\n      <td>31.8</td>\n      <td>2.3</td>\n      <td>1.4</td>\n      <td>6.7</td>\n      <td>False</td>\n      <td>False</td>\n      <td>False</td>\n      <td>False</td>\n      <td>True</td>\n      <td>False</td>\n    </tr>\n    <tr>\n      <th>...</th>\n      <td>...</td>\n      <td>...</td>\n      <td>...</td>\n      <td>...</td>\n      <td>...</td>\n      <td>...</td>\n      <td>...</td>\n      <td>...</td>\n      <td>...</td>\n      <td>...</td>\n      <td>...</td>\n      <td>...</td>\n      <td>...</td>\n      <td>...</td>\n      <td>...</td>\n      <td>...</td>\n      <td>...</td>\n      <td>...</td>\n      <td>...</td>\n      <td>...</td>\n      <td>...</td>\n    </tr>\n    <tr>\n      <th>97376</th>\n      <td>45380955C</td>\n      <td>474766</td>\n      <td>3900</td>\n      <td>0</td>\n      <td>0</td>\n      <td>0</td>\n      <td>1</td>\n      <td>1</td>\n      <td>1</td>\n      <td>73</td>\n      <td>...</td>\n      <td>43.2</td>\n      <td>5.2</td>\n      <td>29.1</td>\n      <td>7.3</td>\n      <td>False</td>\n      <td>False</td>\n      <td>False</td>\n      <td>False</td>\n      <td>True</td>\n      <td>False</td>\n    </tr>\n    <tr>\n      <th>97377</th>\n      <td>1677720D</td>\n      <td>253577</td>\n      <td>71999</td>\n      <td>0</td>\n      <td>0</td>\n      <td>1</td>\n      <td>0</td>\n      <td>1</td>\n      <td>1</td>\n      <td>27</td>\n      <td>...</td>\n      <td>22.2</td>\n      <td>7.8</td>\n      <td>0.6</td>\n      <td>7.9</td>\n      <td>False</td>\n      <td>False</td>\n      <td>False</td>\n      <td>False</td>\n      <td>True</td>\n      <td>False</td>\n    </tr>\n    <tr>\n      <th>97378</th>\n      <td>2000154789A</td>\n      <td>266983</td>\n      <td>2701</td>\n      <td>0</td>\n      <td>1</td>\n      <td>0</td>\n      <td>1</td>\n      <td>1</td>\n      <td>1</td>\n      <td>78</td>\n      <td>...</td>\n      <td>7.3</td>\n      <td>1.1</td>\n      <td>1.7</td>\n      <td>26.7</td>\n      <td>False</td>\n      <td>False</td>\n      <td>False</td>\n      <td>False</td>\n      <td>True</td>\n      <td>False</td>\n    </tr>\n    <tr>\n      <th>97379</th>\n      <td>163793B</td>\n      <td>78171</td>\n      <td>1561</td>\n      <td>0</td>\n      <td>0</td>\n      <td>0</td>\n      <td>1</td>\n      <td>1</td>\n      <td>1</td>\n      <td>50</td>\n      <td>...</td>\n      <td>92.2</td>\n      <td>3.9</td>\n      <td>4.2</td>\n      <td>21.8</td>\n      <td>False</td>\n      <td>False</td>\n      <td>False</td>\n      <td>False</td>\n      <td>True</td>\n      <td>False</td>\n    </tr>\n    <tr>\n      <th>97380</th>\n      <td>33888B</td>\n      <td>333262</td>\n      <td>1502</td>\n      <td>1</td>\n      <td>0</td>\n      <td>1</td>\n      <td>1</td>\n      <td>0</td>\n      <td>1</td>\n      <td>55</td>\n      <td>...</td>\n      <td>34.9</td>\n      <td>1.7</td>\n      <td>26.4</td>\n      <td>1.6</td>\n      <td>False</td>\n      <td>False</td>\n      <td>False</td>\n      <td>False</td>\n      <td>True</td>\n      <td>False</td>\n    </tr>\n  </tbody>\n</table>\n<p>97381 rows × 29 columns</p>\n</div>"
     },
     "execution_count": 73,
     "metadata": {},
     "output_type": "execute_result"
    }
   ],
   "source": [
    "requests_reviews_diet_recipes"
   ]
  },
  {
   "cell_type": "markdown",
   "metadata": {},
   "source": [
    "### Logistic regression"
   ]
  },
  {
   "cell_type": "code",
   "execution_count": 74,
   "metadata": {
    "ExecuteTime": {
     "end_time": "2024-01-12T12:19:14.809583Z",
     "start_time": "2024-01-12T12:19:12.713144Z"
    }
   },
   "outputs": [
    {
     "name": "stdout",
     "output_type": "stream",
     "text": [
      "[[25331    12]\n",
      " [ 3871     1]]\n",
      "              precision    recall  f1-score   support\n",
      "\n",
      "           0       0.87      1.00      0.93     25343\n",
      "           1       0.08      0.00      0.00      3872\n",
      "\n",
      "    accuracy                           0.87     29215\n",
      "   macro avg       0.47      0.50      0.46     29215\n",
      "weighted avg       0.76      0.87      0.81     29215\n",
      "\n",
      "0.4998923804656314\n"
     ]
    }
   ],
   "source": [
    "from sklearn.linear_model import LogisticRegression\n",
    "from sklearn.model_selection import train_test_split\n",
    "from sklearn.metrics import confusion_matrix, classification_report\n",
    "from sklearn.metrics import balanced_accuracy_score\n",
    "\n",
    "# Split data into train and test set\n",
    "\n",
    "#X = requests_reviews_diet_recipes.drop(['AuthorId', 'RecipeId', 'HighCalories', 'HighProtein', 'LowSugar', 'Like'], axis=1)\n",
    "X = requests_reviews_diet_recipes.drop(['AuthorId', 'RecipeId', 'Like'], axis=1)\n",
    "y = requests_reviews_diet_recipes['Like']\n",
    "\n",
    "X_train, X_test, y_train, y_test = train_test_split(X, y, test_size=0.3, random_state=seed)\n",
    "\n",
    "# Fit logistic regression model\n",
    "\n",
    "logmodel = LogisticRegression(max_iter=1000)\n",
    "logmodel.fit(X_train, y_train)\n",
    "\n",
    "# Make predictions\n",
    "\n",
    "predictions = logmodel.predict(X_test)\n",
    "\n",
    "# Evaluate model\n",
    "\n",
    "print(confusion_matrix(y_test, predictions))\n",
    "print(classification_report(y_test, predictions))\n",
    "\n",
    "# Calculate balanced accuracy\n",
    "\n",
    "print(balanced_accuracy_score(y_test, predictions))"
   ]
  },
  {
   "cell_type": "code",
   "execution_count": 74,
   "outputs": [],
   "source": [
    "\n"
   ],
   "metadata": {
    "collapsed": false,
    "ExecuteTime": {
     "end_time": "2024-01-12T12:19:14.813404Z",
     "start_time": "2024-01-12T12:19:14.804855Z"
    }
   }
  },
  {
   "cell_type": "markdown",
   "source": [
    "### Random Forest Classifier (RF)"
   ],
   "metadata": {
    "collapsed": false
   }
  },
  {
   "cell_type": "markdown",
   "source": [
    "balanced accuracy score\n",
    "0.66524 RF (n_est.=5)\n",
    "0.65803 RF (n_est.=25)\n",
    "0.65552 RF (n_est.=50)\n",
    "0.64378 RF (n_est.=100)\n",
    "0.64460 RF (n_est.=200)\n",
    "0.60007 RF (n_est.=5) & GradientBoosting (n_est.=100) --> not useful\n"
   ],
   "metadata": {
    "collapsed": false
   }
  },
  {
   "cell_type": "code",
   "execution_count": 92,
   "outputs": [
    {
     "name": "stdout",
     "output_type": "stream",
     "text": [
      "confusion matrix\n",
      "[[25115   228]\n",
      " [ 3255   617]]\n",
      "classification report\n",
      "              precision    recall  f1-score   support\n",
      "\n",
      "           0       0.89      0.99      0.94     25343\n",
      "           1       0.73      0.16      0.26      3872\n",
      "\n",
      "    accuracy                           0.88     29215\n",
      "   macro avg       0.81      0.58      0.60     29215\n",
      "weighted avg       0.86      0.88      0.85     29215\n",
      "\n",
      "balanced accuracy score\n",
      "0.5751763032271613\n"
     ]
    }
   ],
   "source": [
    "from sklearn.ensemble import RandomForestClassifier\n",
    "\n",
    "# Split data into train and test set\n",
    "X = requests_reviews_diet_recipes.drop(['AuthorId', 'RecipeId', 'Like'], axis=1)\n",
    "y = requests_reviews_diet_recipes['Like']\n",
    "\n",
    "X_train, X_test, y_train, y_test = train_test_split(X, y, test_size=0.3, random_state=seed)\n",
    "\n",
    "# Fit Random Forest Classifier model\n",
    "rf_model = RandomForestClassifier(n_estimators=5, max_depth=10, random_state=seed)\n",
    "rf_model.fit(X_train, y_train)\n",
    "\n",
    "# Make predictions\n",
    "predictions = rf_model.predict(X_test)\n",
    "\n",
    "# Evaluate model\n",
    "print(\"confusion matrix\")\n",
    "print(confusion_matrix(y_test, predictions))\n",
    "print(\"classification report\")\n",
    "print(classification_report(y_test, predictions))\n",
    "\n",
    "# Calculate balanced accuracy\n",
    "print(\"balanced accuracy score\")\n",
    "print(balanced_accuracy_score(y_test, predictions))"
   ],
   "metadata": {
    "collapsed": false,
    "ExecuteTime": {
     "end_time": "2024-01-12T12:44:05.612906Z",
     "start_time": "2024-01-12T12:44:04.596493Z"
    }
   }
  },
  {
   "cell_type": "code",
   "execution_count": 94,
   "outputs": [
    {
     "name": "stderr",
     "output_type": "stream",
     "text": [
      "/Users/eliasmac/PycharmProjects/analytics-cup/venv/lib/python3.10/site-packages/sklearn/ensemble/_base.py:156: FutureWarning: `base_estimator` was renamed to `estimator` in version 1.2 and will be removed in 1.4.\n",
      "  warnings.warn(\n"
     ]
    },
    {
     "name": "stdout",
     "output_type": "stream",
     "text": [
      "[[25343     0]\n",
      " [ 3872     0]]\n",
      "              precision    recall  f1-score   support\n",
      "\n",
      "           0       0.87      1.00      0.93     25343\n",
      "           1       0.00      0.00      0.00      3872\n",
      "\n",
      "    accuracy                           0.87     29215\n",
      "   macro avg       0.43      0.50      0.46     29215\n",
      "weighted avg       0.75      0.87      0.81     29215\n",
      "\n",
      "Balanced Accuracy: 0.5\n"
     ]
    },
    {
     "name": "stderr",
     "output_type": "stream",
     "text": [
      "/Users/eliasmac/PycharmProjects/analytics-cup/venv/lib/python3.10/site-packages/sklearn/metrics/_classification.py:1469: UndefinedMetricWarning: Precision and F-score are ill-defined and being set to 0.0 in labels with no predicted samples. Use `zero_division` parameter to control this behavior.\n",
      "  _warn_prf(average, modifier, msg_start, len(result))\n",
      "/Users/eliasmac/PycharmProjects/analytics-cup/venv/lib/python3.10/site-packages/sklearn/metrics/_classification.py:1469: UndefinedMetricWarning: Precision and F-score are ill-defined and being set to 0.0 in labels with no predicted samples. Use `zero_division` parameter to control this behavior.\n",
      "  _warn_prf(average, modifier, msg_start, len(result))\n",
      "/Users/eliasmac/PycharmProjects/analytics-cup/venv/lib/python3.10/site-packages/sklearn/metrics/_classification.py:1469: UndefinedMetricWarning: Precision and F-score are ill-defined and being set to 0.0 in labels with no predicted samples. Use `zero_division` parameter to control this behavior.\n",
      "  _warn_prf(average, modifier, msg_start, len(result))\n"
     ]
    }
   ],
   "source": [
    "\n"
   ],
   "metadata": {
    "collapsed": false,
    "ExecuteTime": {
     "end_time": "2024-01-12T12:58:25.483456Z",
     "start_time": "2024-01-12T12:58:22.573913Z"
    }
   }
  },
  {
   "cell_type": "code",
   "execution_count": null,
   "outputs": [],
   "source": [],
   "metadata": {
    "collapsed": false
   }
  }
 ],
 "metadata": {
  "kernelspec": {
   "display_name": "base",
   "language": "python",
   "name": "python3"
  },
  "language_info": {
   "codemirror_mode": {
    "name": "ipython",
    "version": 3
   },
   "file_extension": ".py",
   "mimetype": "text/x-python",
   "name": "python",
   "nbconvert_exporter": "python",
   "pygments_lexer": "ipython3",
   "version": "3.9.18"
  }
 },
 "nbformat": 4,
 "nbformat_minor": 2
}
