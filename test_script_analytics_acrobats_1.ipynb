{
 "cells": [
  {
   "cell_type": "markdown",
   "metadata": {},
   "source": [
    "Team Name: **Analytics Acrobats**\n",
    "\n",
    "Submission: **1**"
   ]
  },
  {
   "cell_type": "code",
   "execution_count": null,
   "metadata": {},
   "outputs": [],
   "source": [
    "# Import required packages\n",
    "\n",
    "import pandas as pd\n",
    "import numpy as np\n",
    "import matplotlib.pyplot as plt\n",
    "import seaborn as sns"
   ]
  },
  {
   "cell_type": "code",
   "execution_count": null,
   "metadata": {},
   "outputs": [],
   "source": [
    "# Set seed to ensure reproducibility\n",
    "\n",
    "seed = 2024\n",
    "np.random.seed(seed)"
   ]
  },
  {
   "cell_type": "code",
   "execution_count": null,
   "metadata": {},
   "outputs": [],
   "source": [
    "# Load datasets\n",
    "\n",
    "diet = pd.read_csv('diet.csv')\n",
    "requests = pd.read_csv('requests.csv')\n",
    "reviews = pd.read_csv('reviews.csv')\n",
    "recipes = pd.read_csv('recipes.csv')"
   ]
  },
  {
   "cell_type": "code",
   "execution_count": null,
   "metadata": {},
   "outputs": [],
   "source": [
    "# Get overview of the datasets\n",
    "\n",
    "print(diet.head())\n",
    "print(diet.info())\n",
    "print(diet.isnull().sum())\n",
    "\n",
    "# --> One missing value in diet column"
   ]
  },
  {
   "cell_type": "code",
   "execution_count": null,
   "metadata": {},
   "outputs": [],
   "source": [
    "# Get overview of the datasets\n",
    "\n",
    "print(recipes.head())\n",
    "print(recipes.info())\n",
    "print(recipes.isnull().sum())\n",
    "\n",
    "# --> Missing values in columns RecipeServings and RecipeYield"
   ]
  },
  {
   "cell_type": "code",
   "execution_count": null,
   "metadata": {},
   "outputs": [],
   "source": [
    "# Get overview of the datasets\n",
    "\n",
    "print(reviews.head())\n",
    "print(reviews.info())\n",
    "print(reviews.isnull().sum())\n",
    "\n",
    "# --> Missing values in columns Rating, Like and TestSetId"
   ]
  },
  {
   "cell_type": "code",
   "execution_count": null,
   "metadata": {},
   "outputs": [],
   "source": [
    "# Get overview of the datasets\n",
    "\n",
    "print(requests.head())\n",
    "print(requests.info())\n",
    "print(requests.isnull().sum())\n",
    "\n",
    "# --> No missing values"
   ]
  }
 ],
 "metadata": {
  "kernelspec": {
   "display_name": "base",
   "language": "python",
   "name": "python3"
  },
  "language_info": {
   "codemirror_mode": {
    "name": "ipython",
    "version": 3
   },
   "file_extension": ".py",
   "mimetype": "text/x-python",
   "name": "python",
   "nbconvert_exporter": "python",
   "pygments_lexer": "ipython3",
   "version": "3.9.18"
  }
 },
 "nbformat": 4,
 "nbformat_minor": 2
}
